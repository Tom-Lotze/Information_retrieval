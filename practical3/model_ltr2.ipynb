{
 "cells": [
  {
   "cell_type": "code",
   "execution_count": 1,
   "metadata": {},
   "outputs": [],
   "source": [
    "import dataset\n",
    "from listwise_ltr import listwise_ltr\n",
    "import torch\n",
    "from torch.utils.data import Dataset, DataLoader\n",
    "import matplotlib.pyplot as plt\n",
    "from tqdm import tqdm\n",
    "from collections import defaultdict\n",
    "import numpy as np"
   ]
  },
  {
   "cell_type": "code",
   "execution_count": 2,
   "metadata": {},
   "outputs": [],
   "source": [
    "class ListDataSet(Dataset):\n",
    "    \n",
    "    def __init__(self, fold):\n",
    "        self.fold = fold\n",
    "    \n",
    "    def __len__(self):\n",
    "        return self.fold.num_queries()\n",
    "    \n",
    "    def __getitem__(self, index):\n",
    "        return self.fold.query_feat(index), self.fold.query_labels(index)"
   ]
  },
  {
   "cell_type": "code",
   "execution_count": 3,
   "metadata": {},
   "outputs": [
    {
     "data": {
      "text/plain": [
       "tensor([[0., 0., 0., 0.],\n",
       "        [0., 0., 0., 0.],\n",
       "        [0., 0., 0., 0.],\n",
       "        [0., 0., 0., 0.]], requires_grad=True)"
      ]
     },
     "execution_count": 3,
     "metadata": {},
     "output_type": "execute_result"
    }
   ],
   "source": [
    "torch.zeros_like(torch.zeros(4,4), requires_grad=True)"
   ]
  },
  {
   "cell_type": "code",
   "execution_count": 4,
   "metadata": {},
   "outputs": [
    {
     "name": "stderr",
     "output_type": "stream",
     "text": [
      "c:\\users\\ruth\\appdata\\local\\programs\\python\\python37\\lib\\site-packages\\ipykernel_launcher.py:1: UserWarning: torch.range is deprecated in favor of torch.arange and will be removed in 0.5. Note that arange generates values in [start; end), not [start; end].\n",
      "  \"\"\"Entry point for launching an IPython kernel.\n"
     ]
    },
    {
     "data": {
      "text/plain": [
       "tensor([0., 1., 2., 3., 4.])"
      ]
     },
     "execution_count": 4,
     "metadata": {},
     "output_type": "execute_result"
    }
   ],
   "source": [
    "torch.range(0,4)"
   ]
  },
  {
   "cell_type": "code",
   "execution_count": 16,
   "metadata": {},
   "outputs": [],
   "source": [
    "class LambdaRankLoss(torch.nn.Module):\n",
    "    '''\n",
    "    input: predictions and target\n",
    "    output: scalar loss \n",
    "    '''\n",
    "    \n",
    "    def __init__(self, gamma):\n",
    "        super(LambdaRankLoss, self).__init__()\n",
    "        self.gamma = gamma\n",
    "    \n",
    "#     def forward(self, y_hat, y):\n",
    "#         loss = torch.tensor(0., requires_grad=True)\n",
    "#         for i, z in enumerate(y):\n",
    "#             indices = torch.where(y>z)[0]\n",
    "#             if len(indices) > 0:\n",
    "#                 loss += torch.log(1 + torch.exp(-self.gamma * (y_hat[indices]-y_hat[i]))).sum()\n",
    "                \n",
    "#         return loss\n",
    "\n",
    "    def forward(self, y_hat, y):\n",
    "        loss = torch.zeros_like(y_hat)\n",
    "        \n",
    "        for i, z in enumerate(y):\n",
    "            loss += torch.log(1 + torch.exp(-self.gamma * (y_hat-y_hat[i]))) * (y>z)\n",
    "                \n",
    "        return loss.sum()\n",
    "    \n",
    "    def backward(self, y_hat, y):\n",
    "        \"\"\"\n",
    "        Backward pass. \n",
    "        \n",
    "        Args:\n",
    "            dout: gradients of the previous module\n",
    "        Returns:\n",
    "            dx: gradients with respect to input, weighted by\n",
    "            absolute change in NDCG\n",
    "        \"\"\"\n",
    "        \n",
    "        # get |NDCG|\n",
    "        dy = torch.zeros_like(y_hat)\n",
    "        delta = torch.zeros_like(y_hat)\n",
    "        for i, z in enumerate(y):\n",
    "#             indices = torch.where(y>z)[0]\n",
    "#             if len(indices) > 0:\n",
    "                \n",
    "            subset1 = (y_hat-y_hat[i])>0\n",
    "            term = self.gamma * (1-(self.gamma*(y_hat-y_hat[i])).sigmoid())\n",
    "\n",
    "            dy += term * subset1\n",
    "            dy[i] -= term.sum()\n",
    "            \n",
    "            # add new positions\n",
    "            delta += subset1 * (2*y[i]) / torch.log(torch.range(2,len(y_hat)+1))\n",
    "            delta[i] += (subset1 * 2**y).sum() / torch.log(i+2)\n",
    "            \n",
    "            # remove current positions\n",
    "            delta -= subset1 * (2*y) / torch.log(torch.range(2,len(y_hat)+1))\n",
    "            delta[i] -= subset1.sum() * 2**y[i] / torch.log(i+2)\n",
    "            \n",
    "                \n",
    "        return dy * torch.abs(delta)\n",
    "    \n",
    "    "
   ]
  },
  {
   "cell_type": "code",
   "execution_count": 17,
   "metadata": {},
   "outputs": [],
   "source": [
    "N_EPOCHS = 10"
   ]
  },
  {
   "cell_type": "code",
   "execution_count": 7,
   "metadata": {},
   "outputs": [],
   "source": [
    "data= dataset.get_dataset()\n",
    "data = data.get_data_folds()[0]\n",
    "data.read_data()\n",
    "\n"
   ]
  },
  {
   "cell_type": "code",
   "execution_count": 18,
   "metadata": {},
   "outputs": [],
   "source": [
    "train_dataset = ListDataSet(data.train)\n",
    "valid_dataset = ListDataSet(data.validation)\n",
    "test_dataset = ListDataSet(data.test)"
   ]
  },
  {
   "cell_type": "code",
   "execution_count": 19,
   "metadata": {},
   "outputs": [],
   "source": [
    "train_dl = DataLoader(train_dataset)\n",
    "valid_dl = DataLoader(valid_dataset)\n",
    "test_dl = DataLoader(test_dataset)"
   ]
  },
  {
   "cell_type": "code",
   "execution_count": 20,
   "metadata": {},
   "outputs": [
    {
     "data": {
      "text/plain": [
       "Listwise(\n",
       "  (nnet): Sequential(\n",
       "    (0): Linear(in_features=501, out_features=20, bias=True)\n",
       "    (1): ReLU()\n",
       "    (2): Linear(in_features=20, out_features=1, bias=True)\n",
       "    (3): ReLU()\n",
       "  )\n",
       ")"
      ]
     },
     "execution_count": 20,
     "metadata": {},
     "output_type": "execute_result"
    }
   ],
   "source": [
    "model = listwise_ltr.Listwise()\n",
    "model.cuda()"
   ]
  },
  {
   "cell_type": "code",
   "execution_count": 21,
   "metadata": {},
   "outputs": [],
   "source": [
    "optimizer = torch.optim.Adam(model.parameters())\n",
    "critereon = LambdaRankLoss(gamma=1)"
   ]
  },
  {
   "cell_type": "code",
   "execution_count": 22,
   "metadata": {},
   "outputs": [
    {
     "name": "stderr",
     "output_type": "stream",
     "text": [
      "\n",
      "  0%|                                                                                        | 0/19943 [00:00<?, ?it/s]\n",
      "  0%|                                                                                | 9/19943 [00:00<04:08, 80.21it/s]\n",
      "  0%|                                                                               | 16/19943 [00:00<04:27, 74.47it/s]\n",
      "  0%|                                                                               | 22/19943 [00:00<04:53, 67.86it/s]\n",
      "  0%|                                                                               | 27/19943 [00:00<05:28, 60.68it/s]\n",
      "  0%|▏                                                                              | 34/19943 [00:00<05:30, 60.32it/s]\n",
      "  0%|▏                                                                              | 40/19943 [00:00<05:43, 58.00it/s]\n",
      "  0%|▏                                                                              | 47/19943 [00:00<05:33, 59.63it/s]\n",
      "  0%|▏                                                                              | 53/19943 [00:00<05:37, 58.91it/s]\n",
      "  0%|▏                                                                              | 59/19943 [00:01<06:05, 54.45it/s]\n",
      "  0%|▎                                                                              | 65/19943 [00:01<06:04, 54.52it/s]\n",
      "  6%|████▉                                                                        | 1295/19943 [00:50<23:46, 13.07it/s]\n",
      "  0%|▎                                                                              | 79/19943 [00:01<05:47, 57.22it/s]\n",
      "  0%|▎                                                                              | 86/19943 [00:01<05:35, 59.20it/s]\n",
      "  0%|▎                                                                              | 92/19943 [00:01<05:35, 59.13it/s]\n",
      "  0%|▍                                                                              | 99/19943 [00:01<05:29, 60.31it/s]\n",
      "  1%|▍                                                                             | 106/19943 [00:01<05:43, 57.83it/s]\n",
      "  1%|▍                                                                             | 112/19943 [00:01<05:43, 57.67it/s]\n",
      "  1%|▍                                                                             | 118/19943 [00:02<05:55, 55.79it/s]\n",
      "  1%|▍                                                                             | 126/19943 [00:02<05:31, 59.76it/s]\n",
      "  1%|▌                                                                             | 133/19943 [00:02<05:55, 55.70it/s]\n",
      "  1%|▌                                                                             | 139/19943 [00:02<05:54, 55.85it/s]\n",
      "  1%|▌                                                                             | 145/19943 [00:02<05:48, 56.76it/s]\n",
      "  1%|▌                                                                             | 151/19943 [00:02<05:45, 57.24it/s]\n",
      "  1%|▌                                                                             | 157/19943 [00:02<05:53, 55.98it/s]\n",
      "  1%|▋                                                                             | 163/19943 [00:02<05:49, 56.53it/s]\n",
      "  1%|▋                                                                             | 170/19943 [00:02<05:36, 58.82it/s]\n",
      "  1%|▋                                                                             | 176/19943 [00:03<05:44, 57.36it/s]\n",
      "  1%|▋                                                                             | 182/19943 [00:03<05:40, 58.00it/s]\n",
      "  1%|▋                                                                             | 188/19943 [00:03<05:39, 58.12it/s]\n",
      "  1%|▊                                                                             | 194/19943 [00:03<05:41, 57.87it/s]\n",
      "  1%|▊                                                                             | 200/19943 [00:03<05:48, 56.72it/s]\n",
      "  1%|▊                                                                             | 207/19943 [00:03<05:38, 58.38it/s]\n",
      "  1%|▊                                                                             | 213/19943 [00:03<06:02, 54.43it/s]\n",
      "  1%|▊                                                                             | 219/19943 [00:03<05:59, 54.80it/s]\n",
      "  1%|▉                                                                             | 225/19943 [00:03<05:54, 55.68it/s]\n",
      "  1%|▉                                                                             | 231/19943 [00:04<06:03, 54.18it/s]\n",
      "  1%|▉                                                                             | 237/19943 [00:04<06:06, 53.75it/s]\n",
      "  1%|▉                                                                             | 244/19943 [00:04<05:55, 55.35it/s]\n",
      "  1%|▉                                                                             | 252/19943 [00:04<05:32, 59.14it/s]\n",
      "  1%|█                                                                             | 259/19943 [00:04<05:39, 58.06it/s]"
     ]
    },
    {
     "ename": "KeyboardInterrupt",
     "evalue": "",
     "output_type": "error",
     "traceback": [
      "\u001b[1;31m---------------------------------------------------------------------------\u001b[0m",
      "\u001b[1;31mKeyboardInterrupt\u001b[0m                         Traceback (most recent call last)",
      "\u001b[1;32m<ipython-input-22-24e8c551d4ec>\u001b[0m in \u001b[0;36m<module>\u001b[1;34m()\u001b[0m\n\u001b[0;32m     18\u001b[0m \u001b[1;33m\u001b[0m\u001b[0m\n\u001b[0;32m     19\u001b[0m         \u001b[0moptimizer\u001b[0m\u001b[1;33m.\u001b[0m\u001b[0mzero_grad\u001b[0m\u001b[1;33m(\u001b[0m\u001b[1;33m)\u001b[0m\u001b[1;33m\u001b[0m\u001b[1;33m\u001b[0m\u001b[0m\n\u001b[1;32m---> 20\u001b[1;33m         \u001b[0mloss\u001b[0m\u001b[1;33m.\u001b[0m\u001b[0mbackward\u001b[0m\u001b[1;33m(\u001b[0m\u001b[1;33m)\u001b[0m\u001b[1;33m\u001b[0m\u001b[1;33m\u001b[0m\u001b[0m\n\u001b[0m\u001b[0;32m     21\u001b[0m         \u001b[0moptimizer\u001b[0m\u001b[1;33m.\u001b[0m\u001b[0mstep\u001b[0m\u001b[1;33m(\u001b[0m\u001b[1;33m)\u001b[0m\u001b[1;33m\u001b[0m\u001b[1;33m\u001b[0m\u001b[0m\n\u001b[0;32m     22\u001b[0m \u001b[1;33m\u001b[0m\u001b[0m\n",
      "\u001b[1;32mc:\\users\\ruth\\appdata\\local\\programs\\python\\python37\\lib\\site-packages\\torch\\tensor.py\u001b[0m in \u001b[0;36mbackward\u001b[1;34m(self, gradient, retain_graph, create_graph)\u001b[0m\n\u001b[0;32m    164\u001b[0m                 \u001b[0mproducts\u001b[0m\u001b[1;33m.\u001b[0m \u001b[0mDefaults\u001b[0m \u001b[0mto\u001b[0m\u001b[0;31m \u001b[0m\u001b[0;31m`\u001b[0m\u001b[0;31m`\u001b[0m\u001b[1;32mFalse\u001b[0m\u001b[0;31m`\u001b[0m\u001b[0;31m`\u001b[0m\u001b[1;33m.\u001b[0m\u001b[1;33m\u001b[0m\u001b[1;33m\u001b[0m\u001b[0m\n\u001b[0;32m    165\u001b[0m         \"\"\"\n\u001b[1;32m--> 166\u001b[1;33m         \u001b[0mtorch\u001b[0m\u001b[1;33m.\u001b[0m\u001b[0mautograd\u001b[0m\u001b[1;33m.\u001b[0m\u001b[0mbackward\u001b[0m\u001b[1;33m(\u001b[0m\u001b[0mself\u001b[0m\u001b[1;33m,\u001b[0m \u001b[0mgradient\u001b[0m\u001b[1;33m,\u001b[0m \u001b[0mretain_graph\u001b[0m\u001b[1;33m,\u001b[0m \u001b[0mcreate_graph\u001b[0m\u001b[1;33m)\u001b[0m\u001b[1;33m\u001b[0m\u001b[1;33m\u001b[0m\u001b[0m\n\u001b[0m\u001b[0;32m    167\u001b[0m \u001b[1;33m\u001b[0m\u001b[0m\n\u001b[0;32m    168\u001b[0m     \u001b[1;32mdef\u001b[0m \u001b[0mregister_hook\u001b[0m\u001b[1;33m(\u001b[0m\u001b[0mself\u001b[0m\u001b[1;33m,\u001b[0m \u001b[0mhook\u001b[0m\u001b[1;33m)\u001b[0m\u001b[1;33m:\u001b[0m\u001b[1;33m\u001b[0m\u001b[1;33m\u001b[0m\u001b[0m\n",
      "\u001b[1;32mc:\\users\\ruth\\appdata\\local\\programs\\python\\python37\\lib\\site-packages\\torch\\autograd\\__init__.py\u001b[0m in \u001b[0;36mbackward\u001b[1;34m(tensors, grad_tensors, retain_graph, create_graph, grad_variables)\u001b[0m\n\u001b[0;32m     97\u001b[0m     Variable._execution_engine.run_backward(\n\u001b[0;32m     98\u001b[0m         \u001b[0mtensors\u001b[0m\u001b[1;33m,\u001b[0m \u001b[0mgrad_tensors\u001b[0m\u001b[1;33m,\u001b[0m \u001b[0mretain_graph\u001b[0m\u001b[1;33m,\u001b[0m \u001b[0mcreate_graph\u001b[0m\u001b[1;33m,\u001b[0m\u001b[1;33m\u001b[0m\u001b[1;33m\u001b[0m\u001b[0m\n\u001b[1;32m---> 99\u001b[1;33m         allow_unreachable=True)  # allow_unreachable flag\n\u001b[0m\u001b[0;32m    100\u001b[0m \u001b[1;33m\u001b[0m\u001b[0m\n\u001b[0;32m    101\u001b[0m \u001b[1;33m\u001b[0m\u001b[0m\n",
      "\u001b[1;31mKeyboardInterrupt\u001b[0m: "
     ]
    }
   ],
   "source": [
    "train_loss = defaultdict(list)\n",
    "valid_loss = defaultdict(list)\n",
    "\n",
    "for epoch in range(N_EPOCHS):\n",
    "    \n",
    "    # iterate over training set\n",
    "    for ix, (X,y) in tqdm(enumerate(train_dl), total=len(train_dl)):\n",
    "        X = X.cuda().float().squeeze(0)\n",
    "        y = y.cuda().float().squeeze(0)\n",
    "        \n",
    "        \n",
    "        y_hat = model(X).squeeze(1)\n",
    "        \n",
    "        \n",
    "        \n",
    "        # compute loss\n",
    "        loss = critereon(y_hat, y)\n",
    "        \n",
    "        optimizer.zero_grad()\n",
    "        loss.backward()\n",
    "        optimizer.step()\n",
    "        \n",
    "        train_loss[epoch].append(loss.item())\n",
    "        \n",
    "    # validate\n",
    "    with torch.no_grad():\n",
    "        model.eval()\n",
    "        for ix, (X,y) in tqdm(enumerate(valid_dl), total=len(valid_dl)):\n",
    "            X = X.cuda().float().squeeze(0)\n",
    "            y = y.cuda().float().squeeze(0)\n",
    "\n",
    "            y_hat = model(X).squeeze(1)\n",
    "#             print(y_hat.shape)\n",
    "            \n",
    "\n",
    "            # compute loss\n",
    "            loss = critereon(y_hat, y)\n",
    "\n",
    "            valid_loss[epoch].append(loss.item())\n",
    "        \n",
    "    \n",
    "        \n",
    "        \n",
    "        \n",
    "        \n",
    "        \n",
    "    "
   ]
  },
  {
   "cell_type": "code",
   "execution_count": 103,
   "metadata": {},
   "outputs": [
    {
     "data": {
      "text/plain": [
       "[41.92290489982081]"
      ]
     },
     "execution_count": 103,
     "metadata": {},
     "output_type": "execute_result"
    }
   ],
   "source": [
    "[np.mean(train_loss[epoch]) for epoch in train_loss]"
   ]
  },
  {
   "cell_type": "code",
   "execution_count": 20,
   "metadata": {},
   "outputs": [
    {
     "data": {
      "text/plain": [
       "<matplotlib.legend.Legend at 0x181d91443c8>"
      ]
     },
     "execution_count": 20,
     "metadata": {},
     "output_type": "execute_result"
    },
    {
     "data": {
      "image/png": "[encoded data removed]",
      "text/plain": [
       "<Figure size 432x288 with 1 Axes>"
      ]
     },
     "metadata": {
      "needs_background": "light"
     },
     "output_type": "display_data"
    }
   ],
   "source": [
    "# train loop\n",
    "plt.plot([np.mean(train_loss[epoch]) for epoch in train_loss], label='train')\n",
    "plt.plot([np.mean(valid_loss[epoch]) for epoch in valid_loss], label='valid')\n",
    "plt.xlabel('Epoch')\n",
    "plt.ylabel('Loss')\n",
    "plt.grid(linewidth=0.5, linestyle='--')\n",
    "plt.legend()\n"
   ]
  },
  {
   "cell_type": "markdown",
   "metadata": {},
   "source": [
    "## tryout"
   ]
  },
  {
   "cell_type": "code",
   "execution_count": 22,
   "metadata": {},
   "outputs": [],
   "source": [
    "y_hat = torch.Tensor([1, 2, 2.5, 0.7, 0, .4])\n",
    "y     = torch.Tensor([1, 2, 3, 2, 1, 2])"
   ]
  },
  {
   "cell_type": "code",
   "execution_count": 46,
   "metadata": {},
   "outputs": [
    {
     "data": {
      "text/plain": [
       "tensor([1.0000, 2.0000, 2.5000, 0.7000, 0.0000, 0.4000])"
      ]
     },
     "execution_count": 46,
     "metadata": {},
     "output_type": "execute_result"
    }
   ],
   "source": [
    "y_hat"
   ]
  },
  {
   "cell_type": "code",
   "execution_count": 47,
   "metadata": {},
   "outputs": [
    {
     "data": {
      "text/plain": [
       "tensor([1., 2., 3., 2., 1., 2.])"
      ]
     },
     "execution_count": 47,
     "metadata": {},
     "output_type": "execute_result"
    }
   ],
   "source": [
    "y"
   ]
  },
  {
   "cell_type": "code",
   "execution_count": 42,
   "metadata": {},
   "outputs": [
    {
     "data": {
      "text/plain": [
       "(tensor([2]),)"
      ]
     },
     "execution_count": 42,
     "metadata": {},
     "output_type": "execute_result"
    }
   ],
   "source": [
    "indices = torch.where(y>z)\n",
    "indices"
   ]
  },
  {
   "cell_type": "code",
   "execution_count": 43,
   "metadata": {},
   "outputs": [
    {
     "data": {
      "text/plain": [
       "tensor([2.5000])"
      ]
     },
     "execution_count": 43,
     "metadata": {},
     "output_type": "execute_result"
    }
   ],
   "source": [
    "y_hat[indices]"
   ]
  },
  {
   "cell_type": "code",
   "execution_count": null,
   "metadata": {},
   "outputs": [],
   "source": []
  },
  {
   "cell_type": "code",
   "execution_count": 76,
   "metadata": {},
   "outputs": [
    {
     "name": "stdout",
     "output_type": "stream",
     "text": [
      "Wall time: 1.99 ms\n"
     ]
    }
   ],
   "source": [
    "# loop over absolute differences\n",
    "loss = 0\n",
    "gamma = 1\n",
    "for i, z in enumerate(y):\n",
    "    indices = torch.where(y>z)[0]\n",
    "    if len(indices) > 0:\n",
    "        loss += torch.log(1 + torch.exp(-gamma * (y_hat[indices] - y_hat[i]))).sum()\n",
    "    "
   ]
  },
  {
   "cell_type": "code",
   "execution_count": 65,
   "metadata": {},
   "outputs": [
    {
     "data": {
      "text/plain": [
       "tensor(4.2711)"
      ]
     },
     "execution_count": 65,
     "metadata": {},
     "output_type": "execute_result"
    }
   ],
   "source": [
    "loss"
   ]
  }
 ],
 "metadata": {
  "kernelspec": {
   "display_name": "Python 3",
   "language": "python",
   "name": "python3"
  },
  "language_info": {
   "codemirror_mode": {
    "name": "ipython",
    "version": 3
   },
   "file_extension": ".py",
   "mimetype": "text/x-python",
   "name": "python",
   "nbconvert_exporter": "python",
   "pygments_lexer": "ipython3",
   "version": "3.7.3"
  }
 },
 "nbformat": 4,
 "nbformat_minor": 2
}
