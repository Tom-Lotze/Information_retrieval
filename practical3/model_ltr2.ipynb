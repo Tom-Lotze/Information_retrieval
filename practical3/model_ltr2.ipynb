{
 "cells": [
  {
   "cell_type": "code",
   "execution_count": 1,
   "metadata": {},
   "outputs": [],
   "source": [
    "import dataset\n",
    "from listwise_ltr import listwise_ltr\n",
    "import torch\n",
    "from torch.utils.data import Dataset, DataLoader\n",
    "import matplotlib.pyplot as plt\n",
    "from tqdm import tqdm\n",
    "from collections import defaultdict\n",
    "import numpy as np"
   ]
  },
  {
   "cell_type": "code",
   "execution_count": 2,
   "metadata": {},
   "outputs": [],
   "source": [
    "class ListDataSet(Dataset):\n",
    "    \n",
    "    def __init__(self, fold):\n",
    "        self.fold = fold\n",
    "    \n",
    "    def __len__(self):\n",
    "        return self.fold.num_queries()\n",
    "    \n",
    "    def __getitem__(self, index):\n",
    "        return self.fold.query_feat(index), self.fold.query_labels(index)"
   ]
  },
  {
   "cell_type": "code",
   "execution_count": 3,
   "metadata": {},
   "outputs": [],
   "source": [
    "class LambdaRankLoss(torch.nn.Module):\n",
    "    '''\n",
    "    input: predictions and target\n",
    "    output: scalar loss \n",
    "    '''\n",
    "    \n",
    "    def __init__(self, gamma):\n",
    "        super(LambdaRankLoss, self).__init__()\n",
    "        self.gamma = gamma\n",
    "    \n",
    "#     def forward(self, y_hat, y):\n",
    "#         loss = torch.tensor(0., requires_grad=True)\n",
    "#         for i, z in enumerate(y):\n",
    "#             indices = torch.where(y>z)[0]\n",
    "#             if len(indices) > 0:\n",
    "#                 loss += torch.log(1 + torch.exp(-self.gamma * (y_hat[indices]-y_hat[i]))).sum()\n",
    "                \n",
    "#         return loss\n",
    "\n",
    "    def forward(self, y_hat, y):\n",
    "        loss = torch.zeros_like(y_hat)\n",
    "        \n",
    "        for i, z in enumerate(y):\n",
    "            loss += torch.log(1 + torch.exp(-self.gamma * (y_hat-y_hat[i]))) * (y>z)\n",
    "                \n",
    "        return loss.sum()\n",
    "    \n",
    "    def backward(self, y_hat, y):\n",
    "        \"\"\"\n",
    "        Backward pass. \n",
    "        \n",
    "        Args:\n",
    "            dout: gradients of the previous module\n",
    "        Returns:\n",
    "            dx: gradients with respect to input, weighted by\n",
    "            absolute change in NDCG\n",
    "        \"\"\"\n",
    "        \n",
    "        # get |NDCG|\n",
    "        dy = torch.zeros_like(y_hat)\n",
    "        delta = torch.zeros_like(y_hat)\n",
    "        ndcg_norm = (2**y_sorted / torch.arange(2, len(y)+2).float().log()).sum()\n",
    "        for i, z in enumerate(y):\n",
    "#             indices = torch.where(y>z)[0]\n",
    "#             if len(indices) > 0:\n",
    "                \n",
    "            subset1 = (y_hat-y_hat[i])>0\n",
    "            term = self.gamma * (1-(self.gamma*(y_hat-y_hat[i])).sigmoid())\n",
    "\n",
    "            dy += term * subset1\n",
    "            dy[i] -= term.sum()\n",
    "            \n",
    "            # add new positions\n",
    "            delta += subset1 * (2*y[i]) / torch.log(torch.arange(2,len(y_hat)+2))\n",
    "            delta[i] += (subset1 * 2**y).sum() / torch.log(i+2)\n",
    "            \n",
    "            # remove current positions\n",
    "            delta -= subset1 * (2*y) / torch.log(torch.arange(2,len(y_hat)+2))\n",
    "            delta[i] -= subset1.sum() * 2**y[i] / torch.log(i+2)\n",
    "            \n",
    "                \n",
    "        return dy * torch.abs(delta) / ndcg_norm\n",
    "    \n",
    "    "
   ]
  },
  {
   "cell_type": "code",
   "execution_count": 4,
   "metadata": {},
   "outputs": [],
   "source": [
    "N_EPOCHS = 10"
   ]
  },
  {
   "cell_type": "code",
   "execution_count": 5,
   "metadata": {},
   "outputs": [],
   "source": [
    "data= dataset.get_dataset()\n",
    "data = data.get_data_folds()[0]\n",
    "data.read_data()\n",
    "\n"
   ]
  },
  {
   "cell_type": "code",
   "execution_count": 6,
   "metadata": {},
   "outputs": [],
   "source": [
    "train_dataset = ListDataSet(data.train)\n",
    "valid_dataset = ListDataSet(data.validation)\n",
    "test_dataset = ListDataSet(data.test)"
   ]
  },
  {
   "cell_type": "code",
   "execution_count": 7,
   "metadata": {},
   "outputs": [],
   "source": [
    "train_dl = DataLoader(train_dataset, shuffle=True)\n",
    "valid_dl = DataLoader(valid_dataset)\n",
    "test_dl = DataLoader(test_dataset)"
   ]
  },
  {
   "cell_type": "code",
   "execution_count": 8,
   "metadata": {},
   "outputs": [
    {
     "data": {
      "text/plain": [
       "Listwise(\n",
       "  (nnet): Sequential(\n",
       "    (0): Linear(in_features=501, out_features=20, bias=True)\n",
       "    (1): ReLU()\n",
       "    (2): Linear(in_features=20, out_features=1, bias=True)\n",
       "    (3): ReLU()\n",
       "  )\n",
       ")"
      ]
     },
     "execution_count": 8,
     "metadata": {},
     "output_type": "execute_result"
    }
   ],
   "source": [
    "model = listwise_ltr.Listwise()\n",
    "model.cuda()"
   ]
  },
  {
   "cell_type": "code",
   "execution_count": 9,
   "metadata": {},
   "outputs": [],
   "source": [
    "optimizer = torch.optim.Adam(model.parameters())\n",
    "critereon = LambdaRankLoss(gamma=1)"
   ]
  },
  {
   "cell_type": "code",
   "execution_count": 10,
   "metadata": {},
   "outputs": [],
   "source": [
    "def ndcg(y_hat, y):\n",
    "    \n",
    "    def dcg(y_hat, y):\n",
    "        sort_indices = y_hat.sort(descending=True)[1]\n",
    "        \n",
    "        return ( 2**y[sort_indices].float() / torch.arange(2, len(y)+2).cuda().float().log() ).sum()\n",
    "    \n",
    "    return dcg(y_hat, y) / dcg(y, y)"
   ]
  },
  {
   "cell_type": "code",
   "execution_count": 11,
   "metadata": {},
   "outputs": [
    {
     "name": "stderr",
     "output_type": "stream",
     "text": [
      "Epoch: 1/10: 100%|█| 19943/19943 [09:35<00:00, 39.95it/s, train loss: 179.977\t train NDCG: 0.819\t valid loss: 184.306\t valid NDCG: 0.819]\n",
      "Epoch: 2/10: 100%|█| 19943/19943 [09:30<00:00, 34.96it/s, train loss: 179.977\t train NDCG: 0.819\t valid loss: 184.306\t valid NDCG: 0.819]\n",
      "Epoch: 3/10: 100%|█| 19943/19943 [09:30<00:00, 40.60it/s, train loss: 179.977\t train NDCG: 0.819\t valid loss: 184.306\t valid NDCG: 0.819]\n",
      "Epoch: 4/10: 100%|█| 19943/19943 [09:24<00:00, 35.31it/s, train loss: 179.977\t train NDCG: 0.819\t valid loss: 184.306\t valid NDCG: 0.819]\n",
      "Epoch: 5/10: 100%|█| 19943/19943 [09:24<00:00, 35.30it/s, train loss: 179.977\t train NDCG: 0.819\t valid loss: 184.306\t valid NDCG: 0.819]\n",
      "Epoch: 6/10: 100%|█| 19943/19943 [09:26<00:00, 35.20it/s, train loss: 179.977\t train NDCG: 0.819\t valid loss: 184.306\t valid NDCG: 0.819]\n",
      "Epoch: 7/10: 100%|█| 19943/19943 [09:25<00:00, 35.29it/s, train loss: 179.977\t train NDCG: 0.819\t valid loss: 184.306\t valid NDCG: 0.819]\n",
      "Epoch: 8/10: 100%|█| 19943/19943 [09:27<00:00, 35.12it/s, train loss: 179.977\t train NDCG: 0.819\t valid loss: 184.306\t valid NDCG: 0.819]\n",
      "Epoch: 9/10: 100%|█| 19943/19943 [09:24<00:00, 26.31it/s, train loss: 179.977\t train NDCG: 0.819\t valid loss: 184.306\t valid NDCG: 0.819]\n",
      "Epoch: 10/10: 100%|█| 19943/19943 [09:23<00:00, 38.44it/s, train loss: 179.977\t train NDCG: 0.819\t valid loss: 184.306\t valid NDCG: 0.819]\n"
     ]
    }
   ],
   "source": [
    "train_loss = defaultdict(list)\n",
    "valid_loss = defaultdict(list)\n",
    "train_ndcg = defaultdict(list)\n",
    "valid_ndcg = defaultdict(list)\n",
    "\n",
    "\n",
    "for epoch in range(N_EPOCHS):\n",
    "    \n",
    "    # iterate over training set\n",
    "    with tqdm(total=len(train_dl)) as t:\n",
    "        model.train()\n",
    "        t.set_description(f'Epoch: {epoch+1}/{N_EPOCHS}')\n",
    "        for ix, (X,y) in enumerate(train_dl):\n",
    "            X = X.cuda().float().squeeze(0)\n",
    "            y = y.cuda().float().squeeze(0)\n",
    "\n",
    "\n",
    "            y_hat = model(X).squeeze(1)\n",
    "            \n",
    "\n",
    "            \n",
    "            # compute loss\n",
    "            loss = critereon(y_hat, y)\n",
    "\n",
    "            optimizer.zero_grad()\n",
    "            loss.backward()\n",
    "            optimizer.step()\n",
    "\n",
    "            train_loss[epoch].append(loss.item())\n",
    "            ndcg_batch = ndcg(y_hat, y).item()\n",
    "            train_ndcg[epoch].append(ndcg_batch)\n",
    "            if ix%50 == 0:\n",
    "                t.set_postfix_str(f'train loss: {loss.item():.3f}\\t train NDCG: {ndcg_batch:.3f}')\n",
    "            t.update()\n",
    "            \n",
    "        mean_train_ndcg = np.mean(train_ndcg[epoch])\n",
    "        mean_train_loss = np.mean(train_loss[epoch])\n",
    "\n",
    "        # validate\n",
    "        with torch.no_grad():\n",
    "            model.eval()\n",
    "            for ix, (X,y) in enumerate(valid_dl):\n",
    "                X = X.cuda().float().squeeze(0)\n",
    "                y = y.cuda().float().squeeze(0)\n",
    "\n",
    "                y_hat = model(X).squeeze(1)\n",
    "    #             print(y_hat.shape)\n",
    "\n",
    "\n",
    "                # compute loss\n",
    "                loss = critereon(y_hat, y)\n",
    "                ndcg_batch = ndcg(y_hat, y).item()\n",
    "\n",
    "                valid_loss[epoch].append(loss.item())\n",
    "\n",
    "                valid_ndcg[epoch].append(ndcg_batch)\n",
    "                if ix % 50 == 0:\n",
    "                    t.set_postfix_str(f'train loss: {mean_train_loss:.3f}\\t train NDCG: {mean_train_ndcg:.3f}\\t valid loss: {loss.item():.3f}\\t valid NDCG: {ndcg_batch:.3f}')\n",
    "\n",
    "        mean_valid_ndcg = np.mean(valid_ndcg[epoch])\n",
    "        mean_valid_loss = np.mean(valid_loss[epoch])\n",
    "\n",
    "        t.set_postfix_str(f'train loss: {mean_train_loss:.3f}\\t train NDCG: {mean_train_ndcg:.3f}\\t valid loss: {mean_valid_loss:.3f}\\t valid NDCG: {mean_valid_ndcg:.3f}')\n",
    "        \n",
    "    \n",
    "        \n",
    "        \n",
    "        \n",
    "        \n",
    "        \n",
    "    "
   ]
  },
  {
   "cell_type": "code",
   "execution_count": 103,
   "metadata": {},
   "outputs": [
    {
     "data": {
      "text/plain": [
       "[41.92290489982081]"
      ]
     },
     "execution_count": 103,
     "metadata": {},
     "output_type": "execute_result"
    }
   ],
   "source": [
    "[np.mean(train_loss[epoch]) for epoch in train_loss]"
   ]
  },
  {
   "cell_type": "code",
   "execution_count": 32,
   "metadata": {},
   "outputs": [
    {
     "data": {
      "image/png": "[encoded data removed]",
      "text/plain": [
       "<Figure size 432x288 with 2 Axes>"
      ]
     },
     "metadata": {
      "needs_background": "light"
     },
     "output_type": "display_data"
    }
   ],
   "source": [
    "# train loop\n",
    "def plot_loss_ndcg(train_loss, valid_loss, train_ndcg, valid_ndcg):\n",
    "    f, (ax1, ax2) = plt.subplots(1,2)\n",
    "    \n",
    "    ax1.plot([np.mean(train_loss[epoch]) for epoch in train_loss], label='train')\n",
    "    ax1.plot([np.mean(valid_loss[epoch]) for epoch in valid_loss], label='valid')\n",
    "    ax1.set_xlabel('Epoch')\n",
    "    ax1.set_ylabel('Loss')\n",
    "    \n",
    "    ax2.plot([np.mean(train_ndcg[epoch]) for epoch in train_ndcg], label='train')\n",
    "    ax2.plot([np.mean(valid_ndcg[epoch]) for epoch in valid_ndcg], label='valid')\n",
    "    ax2.set_xlabel('Epoch')\n",
    "    ax2.set_ylabel('NDCG')\n",
    "    \n",
    "    \n",
    "    \n",
    "    ax1.grid(linewidth=0.5, linestyle='--')\n",
    "    ax1.legend()\n",
    "    \n",
    "    ax2.grid(linewidth=0.5, linestyle='--')\n",
    "    ax2.legend()\n",
    "    \n",
    "    plt.tight_layout()\n",
    "    plt.show()\n",
    "    \n",
    "plot_loss_ndcg(train_loss, valid_loss, train_ndcg, valid_ndcg)\n"
   ]
  },
  {
   "cell_type": "markdown",
   "metadata": {},
   "source": [
    "## tryout"
   ]
  },
  {
   "cell_type": "code",
   "execution_count": 22,
   "metadata": {},
   "outputs": [],
   "source": [
    "y_hat = torch.Tensor([1, 2, 2.5, 0.7, 0, .4])\n",
    "y     = torch.Tensor([1, 2, 3, 2, 1, 2])"
   ]
  },
  {
   "cell_type": "code",
   "execution_count": 46,
   "metadata": {},
   "outputs": [
    {
     "data": {
      "text/plain": [
       "tensor([1.0000, 2.0000, 2.5000, 0.7000, 0.0000, 0.4000])"
      ]
     },
     "execution_count": 46,
     "metadata": {},
     "output_type": "execute_result"
    }
   ],
   "source": [
    "y_hat"
   ]
  },
  {
   "cell_type": "code",
   "execution_count": 47,
   "metadata": {},
   "outputs": [
    {
     "data": {
      "text/plain": [
       "tensor([1., 2., 3., 2., 1., 2.])"
      ]
     },
     "execution_count": 47,
     "metadata": {},
     "output_type": "execute_result"
    }
   ],
   "source": [
    "y"
   ]
  },
  {
   "cell_type": "code",
   "execution_count": 42,
   "metadata": {},
   "outputs": [
    {
     "data": {
      "text/plain": [
       "(tensor([2]),)"
      ]
     },
     "execution_count": 42,
     "metadata": {},
     "output_type": "execute_result"
    }
   ],
   "source": [
    "indices = torch.where(y>z)\n",
    "indices"
   ]
  },
  {
   "cell_type": "code",
   "execution_count": 43,
   "metadata": {},
   "outputs": [
    {
     "data": {
      "text/plain": [
       "tensor([2.5000])"
      ]
     },
     "execution_count": 43,
     "metadata": {},
     "output_type": "execute_result"
    }
   ],
   "source": [
    "y_hat[indices]"
   ]
  },
  {
   "cell_type": "code",
   "execution_count": null,
   "metadata": {},
   "outputs": [],
   "source": []
  },
  {
   "cell_type": "code",
   "execution_count": 76,
   "metadata": {},
   "outputs": [
    {
     "name": "stdout",
     "output_type": "stream",
     "text": [
      "Wall time: 1.99 ms\n"
     ]
    }
   ],
   "source": [
    "# loop over absolute differences\n",
    "loss = 0\n",
    "gamma = 1\n",
    "for i, z in enumerate(y):\n",
    "    indices = torch.where(y>z)[0]\n",
    "    if len(indices) > 0:\n",
    "        loss += torch.log(1 + torch.exp(-gamma * (y_hat[indices] - y_hat[i]))).sum()\n",
    "    "
   ]
  },
  {
   "cell_type": "code",
   "execution_count": 65,
   "metadata": {},
   "outputs": [
    {
     "data": {
      "text/plain": [
       "tensor(4.2711)"
      ]
     },
     "execution_count": 65,
     "metadata": {},
     "output_type": "execute_result"
    }
   ],
   "source": [
    "loss"
   ]
  }
 ],
 "metadata": {
  "kernelspec": {
   "display_name": "Python 3",
   "language": "python",
   "name": "python3"
  },
  "language_info": {
   "codemirror_mode": {
    "name": "ipython",
    "version": 3
   },
   "file_extension": ".py",
   "mimetype": "text/x-python",
   "name": "python",
   "nbconvert_exporter": "python",
   "pygments_lexer": "ipython3",
   "version": "3.7.3"
  }
 },
 "nbformat": 4,
 "nbformat_minor": 2
}
