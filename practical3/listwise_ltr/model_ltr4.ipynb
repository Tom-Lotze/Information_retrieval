{
 "cells": [
  {
   "cell_type": "code",
   "execution_count": 24,
   "metadata": {},
   "outputs": [],
   "source": [
    "import listwise_ltr\n",
    "import torch\n",
    "from torch import nn\n",
    "from torch.utils.data import Dataset, DataLoader\n",
    "import matplotlib.pyplot as plt\n",
    "from tqdm import tqdm\n",
    "from collections import defaultdict\n",
    "import numpy as np\n",
    "# from evaluate import ndcg_at_k\n",
    "import sys\n",
    "sys.path.append('..')\n",
    "import dataset"
   ]
  },
  {
   "cell_type": "code",
   "execution_count": 25,
   "metadata": {},
   "outputs": [],
   "source": [
    "N_EPOCHS=10\n",
    "DEVICE = 'cuda:0'"
   ]
  },
  {
   "cell_type": "code",
   "execution_count": 26,
   "metadata": {},
   "outputs": [],
   "source": [
    "# class ListDataSet(Dataset):\n",
    "    \n",
    "#     def __init__(self, fold):\n",
    "#         self.fold = fold\n",
    "    \n",
    "#     def __len__(self):\n",
    "#         return self.fold.num_queries()\n",
    "    \n",
    "#     def __getitem__(self, index):\n",
    "#         return self.fold.query_feat(index), self.fold.query_labels(index)"
   ]
  },
  {
   "cell_type": "code",
   "execution_count": 37,
   "metadata": {},
   "outputs": [],
   "source": [
    "def ndcg(y_hat, y):\n",
    "    \n",
    "    def dcg(y_hat, y):\n",
    "        sort_indices = y_hat.sort(descending=True)[1]\n",
    "        \n",
    "        return ( (2**y[sort_indices].float()-1) / torch.arange(2, len(y)+2).cuda().float().log() ).sum()\n",
    "    norm = dcg(y, y)\n",
    "    if norm == 0:\n",
    "        return torch.tensor(1)\n",
    "    else:\n",
    "        return dcg(y_hat, y) / norm\n",
    "    \n",
    "def err(y_hat, y):\n",
    "    R = y[y_hat.sort(descending=True).indices]\n",
    "    Nd = len(R)\n",
    "    \n",
    "    phi = torch.arange(1,Nd+1).to(DEVICE)\n",
    "    p = (2**R-1) / 2**4\n",
    "    prob_stopping = torch.cumprod(1-p, 0) / (1-p[0]) * p\n",
    "    return (prob_stopping/phi).sum()    \n",
    "\n",
    "\n",
    "def delta_ndcg(y_hat, y):\n",
    "    \n",
    "    indices = y_hat.sort(descending=True).indices\n",
    "    R_true = y.sort(descending=True).values\n",
    "    R = y[indices]\n",
    "\n",
    "    alpha = ( (2 ** R_true - 1) / torch.arange(2, len(y)+2).float().log2().to(DEVICE) ).sum()\n",
    "\n",
    "    if alpha.item() == 0:\n",
    "        return torch.ones_like(R)\n",
    "    else:\n",
    "        Nd = len(y_hat)\n",
    "\n",
    "        Delta  = ((2**R-1).unsqueeze(1) / torch.arange(2, len(R)+2).float().log2().cuda() )\n",
    "        ddcg = (Delta.sum(dim=1) + Delta.sum(dim=0) - Delta.diag() * Nd - Delta.diag().sum())/alpha\n",
    "    \n",
    "        return ddcg[indices] / alpha\n",
    "    \n",
    "    \n",
    "def delta_err(y_hat, y):\n",
    "    R = y[y_hat.sort(descending=True).indices]\n",
    "    Nd = len(R)\n",
    "    D = torch.zeros(Nd, Nd, Nd).to(DEVICE)\n",
    "    \n",
    "    phi = torch.arange(1,Nd+1).to(DEVICE)\n",
    "    p = (2**R-1) / 2**4\n",
    "    \n",
    "    for i in range(Nd):\n",
    "        for j in range(i+1, Nd):\n",
    "            \n",
    "            # swap indices\n",
    "            p = p.clone()\n",
    "            p[i], p[j] = p[j].item(), p[i].item()\n",
    "                        \n",
    "            prob_stopping = torch.cumprod(1-p, 0) / (1-p[0]) * p\n",
    "            D[i,j,:] = D[j,i,:] = prob_stopping\n",
    "    \n",
    "    D = (D / phi).sum(dim=[1,2])\n",
    "            \n",
    "    return D\n",
    "\n",
    "\n",
    "class LambdaRankFunction(torch.autograd.Function):\n",
    "    \n",
    " \n",
    "        \n",
    "    \n",
    "    @staticmethod\n",
    "    def forward(ctx, y_hat, y, sigma, metric):\n",
    "        \n",
    "        S = (y.unsqueeze(1) - y.t()).clamp(-1, 1)\n",
    "        D = y_hat.unsqueeze(1) - y_hat.t()\n",
    "        \n",
    "        ctx.save_for_backward(S, D, y_hat, y)\n",
    "        ctx.sigma = sigma\n",
    "        ctx.metric = metric\n",
    "        \n",
    "        loss = .5 * (1-S) * sigma * D + torch.log2(1+ torch.exp(-sigma*D))\n",
    "            \n",
    "        return loss.sum()\n",
    "    \n",
    "    @staticmethod\n",
    "    def backward(ctx, grad_output):\n",
    "        S, D, y_hat, y = ctx.saved_tensors\n",
    "        \n",
    "        Lambda = ctx.sigma * (.5 * (1-S) - 1 / (1+torch.exp(-ctx.sigma*D)))\n",
    "        \n",
    "        if ctx.metric == 'NDCG':\n",
    "            dirm = delta_ndcg(y_hat, y)\n",
    "        elif ctx.metric == 'ERR':\n",
    "            dirm = delta_err(y_hat, y)\n",
    "        else:\n",
    "            raise NotImplementedError()\n",
    "        \n",
    "        dy_hat = Lambda.sum(dim=1) * dirm.abs()           \n",
    "        \n",
    "        return dy_hat, None, None, None\n",
    "\n",
    "\n",
    "class LambdaRankLoss(torch.nn.Module):\n",
    "    '''\n",
    "    input: predictions and target\n",
    "    output: scalar loss \n",
    "    '''\n",
    "    \n",
    "    def __init__(self, sigma, metric):\n",
    "        assert metric in ['NDCG', 'ERR']\n",
    "        \n",
    "        super(LambdaRankLoss, self).__init__()\n",
    "        self.sigma = sigma\n",
    "        self.metric = metric\n",
    "        \n",
    "    \n",
    "    def forward(self, y_hat, y):\n",
    "        return LambdaRankFunction.apply(y_hat, y, self.sigma, self.metric)\n",
    "\n",
    "    \n",
    "    "
   ]
  },
  {
   "cell_type": "code",
   "execution_count": 28,
   "metadata": {},
   "outputs": [],
   "source": [
    "data= dataset.get_dataset()\n",
    "data.data_paths = ['../dataset']\n",
    "data = data.get_data_folds()[0]\n",
    "data.read_data()\n",
    "\n"
   ]
  },
  {
   "cell_type": "code",
   "execution_count": 29,
   "metadata": {},
   "outputs": [
    {
     "data": {
      "text/plain": [
       "<torch._C.Generator at 0x1a741d02970>"
      ]
     },
     "execution_count": 29,
     "metadata": {},
     "output_type": "execute_result"
    }
   ],
   "source": [
    "np.random.seed(42)\n",
    "torch.manual_seed(42)"
   ]
  },
  {
   "cell_type": "code",
   "execution_count": 30,
   "metadata": {},
   "outputs": [],
   "source": [
    "train_dataset = dataset.ListDataSet(data.train)\n",
    "valid_dataset = dataset.ListDataSet(data.validation)\n",
    "test_dataset = dataset.ListDataSet(data.test)"
   ]
  },
  {
   "cell_type": "code",
   "execution_count": 31,
   "metadata": {},
   "outputs": [],
   "source": [
    "train_dl = DataLoader(train_dataset, shuffle=True)\n",
    "valid_dl = DataLoader(valid_dataset)\n",
    "test_dl = DataLoader(test_dataset)"
   ]
  },
  {
   "cell_type": "code",
   "execution_count": 38,
   "metadata": {},
   "outputs": [],
   "source": [
    "model = listwise_ltr.Listwise()\n",
    "model.cuda()\n",
    "\n",
    "optimizer = torch.optim.Adam(model.parameters())\n",
    "critereon = LambdaRankLoss(sigma=1, metric='ERR')"
   ]
  },
  {
   "cell_type": "code",
   "execution_count": 39,
   "metadata": {},
   "outputs": [],
   "source": [
    "learning_rates = [1e-5, 1e-4, 1e-3, 1e-2]\n",
    "sigmas = [0, 0.25, .5, 1.]\n",
    "metrics = ['NDCG', 'ERR']\n",
    "\n",
    "configs = [{'learning_rate':l, 'sigma':s, 'metric':m} for l in learning_rates for s in sigmas for m in metrics]"
   ]
  },
  {
   "cell_type": "code",
   "execution_count": 172,
   "metadata": {},
   "outputs": [
    {
     "name": "stderr",
     "output_type": "stream",
     "text": [
      "\n",
      "\n",
      "  0%|                                                                                           | 0/32 [00:00<?, ?it/s]\n",
      "\n",
      "100%|██████████████████████████████████████████████████████████████████████████████████████████| 32/32 [00:00<?, ?it/s]"
     ]
    }
   ],
   "source": [
    "for i, config in tqdm(enumerate(configs), total=len(configs)):\n",
    "    None"
   ]
  },
  {
   "cell_type": "code",
   "execution_count": 155,
   "metadata": {},
   "outputs": [
    {
     "name": "stderr",
     "output_type": "stream",
     "text": [
      "\n",
      "0it [00:00, ?it/s]"
     ]
    }
   ],
   "source": [
    "t=tqdm()"
   ]
  },
  {
   "cell_type": "code",
   "execution_count": 162,
   "metadata": {},
   "outputs": [
    {
     "name": "stderr",
     "output_type": "stream",
     "text": [
      "\n",
      "7it [00:05,  1.70it/s]"
     ]
    }
   ],
   "source": [
    "t.update()"
   ]
  },
  {
   "cell_type": "code",
   "execution_count": 143,
   "metadata": {},
   "outputs": [
    {
     "data": {
      "text/plain": [
       "21.333333333333332"
      ]
     },
     "execution_count": 143,
     "metadata": {},
     "output_type": "execute_result"
    }
   ],
   "source": [
    "32*4*10/60"
   ]
  },
  {
   "cell_type": "code",
   "execution_count": 40,
   "metadata": {},
   "outputs": [
    {
     "name": "stderr",
     "output_type": "stream",
     "text": [
      "Epoch: 1/10:   0%|                  | 7/19943 [00:06<3:58:55,  1.39it/s, TRAIN: loss: 289.104\t NDCG: 0.457\t ERR: 0.091]\n"
     ]
    },
    {
     "ename": "KeyboardInterrupt",
     "evalue": "",
     "output_type": "error",
     "traceback": [
      "\u001b[1;31m---------------------------------------------------------------------------\u001b[0m",
      "\u001b[1;31mKeyboardInterrupt\u001b[0m                         Traceback (most recent call last)",
      "\u001b[1;32m<ipython-input-40-435988c24c3c>\u001b[0m in \u001b[0;36m<module>\u001b[1;34m()\u001b[0m\n\u001b[0;32m     30\u001b[0m \u001b[1;33m\u001b[0m\u001b[0m\n\u001b[0;32m     31\u001b[0m             \u001b[0moptimizer\u001b[0m\u001b[1;33m.\u001b[0m\u001b[0mzero_grad\u001b[0m\u001b[1;33m(\u001b[0m\u001b[1;33m)\u001b[0m\u001b[1;33m\u001b[0m\u001b[1;33m\u001b[0m\u001b[0m\n\u001b[1;32m---> 32\u001b[1;33m             \u001b[0mloss\u001b[0m\u001b[1;33m.\u001b[0m\u001b[0mbackward\u001b[0m\u001b[1;33m(\u001b[0m\u001b[1;33m)\u001b[0m\u001b[1;33m\u001b[0m\u001b[1;33m\u001b[0m\u001b[0m\n\u001b[0m\u001b[0;32m     33\u001b[0m             \u001b[0moptimizer\u001b[0m\u001b[1;33m.\u001b[0m\u001b[0mstep\u001b[0m\u001b[1;33m(\u001b[0m\u001b[1;33m)\u001b[0m\u001b[1;33m\u001b[0m\u001b[1;33m\u001b[0m\u001b[0m\n\u001b[0;32m     34\u001b[0m \u001b[1;33m\u001b[0m\u001b[0m\n",
      "\u001b[1;32mc:\\users\\ruth\\appdata\\local\\programs\\python\\python37\\lib\\site-packages\\torch\\tensor.py\u001b[0m in \u001b[0;36mbackward\u001b[1;34m(self, gradient, retain_graph, create_graph)\u001b[0m\n\u001b[0;32m    164\u001b[0m                 \u001b[0mproducts\u001b[0m\u001b[1;33m.\u001b[0m \u001b[0mDefaults\u001b[0m \u001b[0mto\u001b[0m\u001b[0;31m \u001b[0m\u001b[0;31m`\u001b[0m\u001b[0;31m`\u001b[0m\u001b[1;32mFalse\u001b[0m\u001b[0;31m`\u001b[0m\u001b[0;31m`\u001b[0m\u001b[1;33m.\u001b[0m\u001b[1;33m\u001b[0m\u001b[1;33m\u001b[0m\u001b[0m\n\u001b[0;32m    165\u001b[0m         \"\"\"\n\u001b[1;32m--> 166\u001b[1;33m         \u001b[0mtorch\u001b[0m\u001b[1;33m.\u001b[0m\u001b[0mautograd\u001b[0m\u001b[1;33m.\u001b[0m\u001b[0mbackward\u001b[0m\u001b[1;33m(\u001b[0m\u001b[0mself\u001b[0m\u001b[1;33m,\u001b[0m \u001b[0mgradient\u001b[0m\u001b[1;33m,\u001b[0m \u001b[0mretain_graph\u001b[0m\u001b[1;33m,\u001b[0m \u001b[0mcreate_graph\u001b[0m\u001b[1;33m)\u001b[0m\u001b[1;33m\u001b[0m\u001b[1;33m\u001b[0m\u001b[0m\n\u001b[0m\u001b[0;32m    167\u001b[0m \u001b[1;33m\u001b[0m\u001b[0m\n\u001b[0;32m    168\u001b[0m     \u001b[1;32mdef\u001b[0m \u001b[0mregister_hook\u001b[0m\u001b[1;33m(\u001b[0m\u001b[0mself\u001b[0m\u001b[1;33m,\u001b[0m \u001b[0mhook\u001b[0m\u001b[1;33m)\u001b[0m\u001b[1;33m:\u001b[0m\u001b[1;33m\u001b[0m\u001b[1;33m\u001b[0m\u001b[0m\n",
      "\u001b[1;32mc:\\users\\ruth\\appdata\\local\\programs\\python\\python37\\lib\\site-packages\\torch\\autograd\\__init__.py\u001b[0m in \u001b[0;36mbackward\u001b[1;34m(tensors, grad_tensors, retain_graph, create_graph, grad_variables)\u001b[0m\n\u001b[0;32m     97\u001b[0m     Variable._execution_engine.run_backward(\n\u001b[0;32m     98\u001b[0m         \u001b[0mtensors\u001b[0m\u001b[1;33m,\u001b[0m \u001b[0mgrad_tensors\u001b[0m\u001b[1;33m,\u001b[0m \u001b[0mretain_graph\u001b[0m\u001b[1;33m,\u001b[0m \u001b[0mcreate_graph\u001b[0m\u001b[1;33m,\u001b[0m\u001b[1;33m\u001b[0m\u001b[1;33m\u001b[0m\u001b[0m\n\u001b[1;32m---> 99\u001b[1;33m         allow_unreachable=True)  # allow_unreachable flag\n\u001b[0m\u001b[0;32m    100\u001b[0m \u001b[1;33m\u001b[0m\u001b[0m\n\u001b[0;32m    101\u001b[0m \u001b[1;33m\u001b[0m\u001b[0m\n",
      "\u001b[1;31mKeyboardInterrupt\u001b[0m: "
     ]
    }
   ],
   "source": [
    "train_loss = defaultdict(list)\n",
    "valid_loss = defaultdict(list)\n",
    "train_ndcg = defaultdict(list)\n",
    "valid_ndcg = defaultdict(list)\n",
    "train_err  = defaultdict(list)\n",
    "valid_err  = defaultdict(list)\n",
    "\n",
    "\n",
    "tqdm_str_format_train = 'TRAIN: loss: {0:.3f}\\t NDCG: {1:.3f}\\t ERR: {2:.3f}'\n",
    "tqdm_str_format_valid = 'TRAIN: loss: {0:.3f}\\t NDCG: {1:.3f}\\t ERR: {2:.3f} \\t VALID: loss: {3:.3f}\\t NDCG: {4:.3f} \\t ERR: {5:.3f}'\n",
    "\n",
    "for epoch in range(N_EPOCHS):\n",
    "    \n",
    "    if early_stopping(valid_ndcg, patience=1):\n",
    "        print('EARLY STOPPING')\n",
    "        break\n",
    "    \n",
    "    # iterate over training set\n",
    "    with tqdm(total=len(train_dl)) as t:\n",
    "        model.train()\n",
    "        t.set_description(f'Epoch: {epoch+1}/{N_EPOCHS}')\n",
    "        for ix, (X,y) in enumerate(train_dl):\n",
    "            X = X.cuda().float().squeeze(0)\n",
    "            y = y.cuda().float().squeeze(0)\n",
    "\n",
    "            y_hat = model(X).sigmoid().squeeze(1)\n",
    "            \n",
    "            # compute loss\n",
    "            loss = critereon(y_hat, y)\n",
    "\n",
    "            optimizer.zero_grad()\n",
    "            loss.backward()\n",
    "            optimizer.step()\n",
    "\n",
    "            train_loss[epoch].append(loss.item())\n",
    "            ndcg_batch = ndcg(y_hat, y).item()\n",
    "            err_batch = err(y_hat, y).item()\n",
    "            \n",
    "            train_ndcg[epoch].append(ndcg_batch)\n",
    "            train_err[epoch].append(err_batch)\n",
    "            \n",
    "            if ix%50 == 0:\n",
    "                t.set_postfix_str(tqdm_str_format_train.format(\n",
    "                    loss.item(), ndcg_batch, err_batch\n",
    "                ))\n",
    "                \n",
    "            if ix == 300:\n",
    "                break\n",
    "            \n",
    "            t.update()\n",
    "            \n",
    "        mean_train_ndcg = np.mean(train_ndcg[epoch])\n",
    "        mean_train_err  = np.mean(train_err[epoch])\n",
    "        mean_train_loss = np.mean(train_loss[epoch])\n",
    "\n",
    "        # validate\n",
    "        with torch.no_grad():\n",
    "            model.eval()\n",
    "            for ix, (X,y) in enumerate(valid_dl):\n",
    "                X = X.cuda().float().squeeze(0)\n",
    "                y = y.cuda().float().squeeze(0)\n",
    "\n",
    "                y_hat = model(X).sigmoid().squeeze(1)\n",
    "\n",
    "                # compute loss\n",
    "                loss = critereon(y_hat, y)\n",
    "                ndcg_batch = ndcg(y_hat, y).item()\n",
    "                err_batch = err(y_hat, y).item()\n",
    "                \n",
    "                valid_loss[epoch].append(loss.item())\n",
    "                valid_ndcg[epoch].append(ndcg_batch)\n",
    "                valid_err[epoch].append(err_batch)\n",
    "\n",
    "                if ix % 50 == 0:\n",
    "                    t.set_postfix_str(tqdm_str_format_valid.format(\n",
    "                        mean_train_loss, mean_train_ndcg, mean_train_err, loss.item(), ndcg_batch, err_batch\n",
    "                    ))\n",
    "                    \n",
    "                \n",
    "\n",
    "        mean_valid_ndcg = np.mean(valid_ndcg[epoch])\n",
    "        mean_valid_err  = np.mean(valid_err[epoch])\n",
    "        mean_valid_loss = np.mean(valid_loss[epoch])\n",
    "        \n",
    "        t.set_postfix_str(tqdm_str_format_valid.format(\n",
    "            mean_train_loss, mean_train_ndcg, mean_train_err, mean_valid_loss, mean_valid_ndcg, mean_valid_err\n",
    "        ))\n",
    "        \n",
    "        \n",
    "        \n",
    "        \n",
    "        \n",
    "    "
   ]
  },
  {
   "cell_type": "code",
   "execution_count": 44,
   "metadata": {},
   "outputs": [],
   "source": [
    "p = torch.Tensor([1,4,8,0])"
   ]
  },
  {
   "cell_type": "code",
   "execution_count": 46,
   "metadata": {},
   "outputs": [
    {
     "data": {
      "text/plain": [
       "tensor([1., 4., 0., 8.])"
      ]
     },
     "execution_count": 46,
     "metadata": {},
     "output_type": "execute_result"
    }
   ],
   "source": [
    "p[[0,1,3,2]]"
   ]
  },
  {
   "cell_type": "code",
   "execution_count": 51,
   "metadata": {},
   "outputs": [
    {
     "data": {
      "text/plain": [
       "array([0, 1, 2, 3])"
      ]
     },
     "execution_count": 51,
     "metadata": {},
     "output_type": "execute_result"
    }
   ],
   "source": [
    "np.arange(4)"
   ]
  },
  {
   "cell_type": "code",
   "execution_count": 106,
   "metadata": {},
   "outputs": [],
   "source": [
    "def delta_err2(y_hat, y):\n",
    "    R = y[y_hat.sort(descending=True).indices]\n",
    "    Nd = len(R)\n",
    "    D = torch.zeros(Nd, Nd, Nd).to(DEVICE)\n",
    "    \n",
    "    phi = torch.arange(1,Nd+1).to(DEVICE)\n",
    "    p = (2**R-1) / 2**4\n",
    "    ind = np.arange(Nd)\n",
    "    \n",
    "    for i in range(Nd):\n",
    "        for j in range(i+1, Nd):\n",
    "            \n",
    "            # swap indices\n",
    "            \n",
    "#             p2 = p.clone()\n",
    "            ind[[i,j]] = ind[[j,i]]\n",
    "                        \n",
    "            prob_stopping = torch.cumprod(1-p[ind], 0) / (1-p[ind]) * p[ind]\n",
    "            D[i,j,:] = D[j,i,:] = prob_stopping\n",
    "    \n",
    "    D = (D / phi).sum(dim=[1,2])\n",
    "            \n",
    "    return D"
   ]
  },
  {
   "cell_type": "code",
   "execution_count": 141,
   "metadata": {},
   "outputs": [
    {
     "ename": "NameError",
     "evalue": "name 'results' is not defined",
     "output_type": "error",
     "traceback": [
      "\u001b[1;31m---------------------------------------------------------------------------\u001b[0m",
      "\u001b[1;31mNameError\u001b[0m                                 Traceback (most recent call last)",
      "\u001b[1;32m<ipython-input-141-e823de0618b8>\u001b[0m in \u001b[0;36m<module>\u001b[1;34m()\u001b[0m\n\u001b[1;32m----> 1\u001b[1;33m \u001b[1;34mf\"{np.mean(results['test_ndcg'])}\"\u001b[0m\u001b[1;33m\u001b[0m\u001b[1;33m\u001b[0m\u001b[0m\n\u001b[0m",
      "\u001b[1;31mNameError\u001b[0m: name 'results' is not defined"
     ]
    }
   ],
   "source": [
    "f\"{np.mean(results['test_ndcg'])}\""
   ]
  },
  {
   "cell_type": "code",
   "execution_count": 121,
   "metadata": {},
   "outputs": [],
   "source": [
    "p = torch.Tensor([1,4,8]) "
   ]
  },
  {
   "cell_type": "code",
   "execution_count": 122,
   "metadata": {},
   "outputs": [],
   "source": [
    "p = p.repeat(9, 1)"
   ]
  },
  {
   "cell_type": "code",
   "execution_count": 125,
   "metadata": {},
   "outputs": [],
   "source": [
    "p2 = p.clone()"
   ]
  },
  {
   "cell_type": "code",
   "execution_count": 127,
   "metadata": {},
   "outputs": [
    {
     "data": {
      "text/plain": [
       "tensor([0, 1, 2, 3])"
      ]
     },
     "execution_count": 127,
     "metadata": {},
     "output_type": "execute_result"
    }
   ],
   "source": [
    "torch.arange(4)"
   ]
  },
  {
   "cell_type": "code",
   "execution_count": 138,
   "metadata": {},
   "outputs": [
    {
     "data": {
      "text/plain": [
       "tensor([1., 4.])"
      ]
     },
     "execution_count": 138,
     "metadata": {},
     "output_type": "execute_result"
    }
   ],
   "source": [
    "p[[(0,0), (0,1)]]"
   ]
  },
  {
   "cell_type": "code",
   "execution_count": null,
   "metadata": {},
   "outputs": [],
   "source": [
    "p"
   ]
  },
  {
   "cell_type": "code",
   "execution_count": 103,
   "metadata": {},
   "outputs": [
    {
     "name": "stdout",
     "output_type": "stream",
     "text": [
      "Wall time: 0 ns\n"
     ]
    }
   ],
   "source": [
    "%%time\n",
    "z[0], z[1]"
   ]
  },
  {
   "cell_type": "code",
   "execution_count": 72,
   "metadata": {},
   "outputs": [
    {
     "data": {
      "text/plain": [
       "array([1, 0, 2, 3])"
      ]
     },
     "execution_count": 72,
     "metadata": {},
     "output_type": "execute_result"
    }
   ],
   "source": [
    "z"
   ]
  },
  {
   "cell_type": "code",
   "execution_count": 107,
   "metadata": {},
   "outputs": [
    {
     "name": "stdout",
     "output_type": "stream",
     "text": [
      "Wall time: 2.12 s\n"
     ]
    },
    {
     "data": {
      "text/plain": [
       "tensor([ 5.7130,  9.8260, 10.1584, 10.4416, 10.8547, 11.5613, 11.1972, 11.4431,\n",
       "        11.4626, 11.6551, 11.5486, 11.5153, 11.6842, 11.6408, 11.7845, 11.7829,\n",
       "        11.7837, 11.7930, 11.9067, 11.9897, 11.8857, 11.8686, 11.8000, 11.9714,\n",
       "        11.8467, 11.8679, 11.8732, 12.0001, 11.9266, 11.9089, 11.9049, 11.8374,\n",
       "        11.8070, 11.8493, 11.8633, 11.8706, 11.9992, 11.8585, 11.8784, 11.8819,\n",
       "        11.8828, 12.0087], device='cuda:0')"
      ]
     },
     "execution_count": 107,
     "metadata": {},
     "output_type": "execute_result"
    }
   ],
   "source": [
    "%%time\n",
    "delta_err(y_hat, y)"
   ]
  },
  {
   "cell_type": "code",
   "execution_count": 109,
   "metadata": {},
   "outputs": [
    {
     "name": "stdout",
     "output_type": "stream",
     "text": [
      "Wall time: 2.04 s\n"
     ]
    },
    {
     "data": {
      "text/plain": [
       "tensor([21.9038, 19.0511, 16.7099, 15.4522, 14.7894, 14.6272, 14.0551, 13.8318,\n",
       "        13.5978, 13.5214, 13.3592, 13.2559, 13.2524, 13.1527, 13.1678, 13.0944,\n",
       "        13.0609, 13.0384, 13.0843, 13.0924, 13.0245, 13.0031, 12.9583, 13.0404,\n",
       "        12.9609, 12.9729, 12.9719, 13.0353, 12.9873, 12.9763, 12.9720, 12.9369,\n",
       "        12.9263, 12.9532, 12.9591, 12.9614, 13.0276, 12.9488, 12.9633, 12.9645,\n",
       "        12.9646, 13.0299], device='cuda:0')"
      ]
     },
     "execution_count": 109,
     "metadata": {},
     "output_type": "execute_result"
    }
   ],
   "source": [
    "%%time\n",
    "delta_err2(y_hat, y)"
   ]
  },
  {
   "cell_type": "code",
   "execution_count": 128,
   "metadata": {},
   "outputs": [],
   "source": [
    "diff = np.array([-9.01721072e-04, -4.22556106e-05, -2.73978435e-05,  1.54022049e-03, -9.92962661e-03])"
   ]
  },
  {
   "cell_type": "code",
   "execution_count": 132,
   "metadata": {},
   "outputs": [
    {
     "data": {
      "text/plain": [
       "6"
      ]
     },
     "execution_count": 132,
     "metadata": {},
     "output_type": "execute_result"
    }
   ],
   "source": [
    "cur_epoch = len(diff)+1;cur_epoch"
   ]
  },
  {
   "cell_type": "code",
   "execution_count": null,
   "metadata": {},
   "outputs": [],
   "source": []
  },
  {
   "cell_type": "code",
   "execution_count": 130,
   "metadata": {},
   "outputs": [
    {
     "data": {
      "text/plain": [
       "4"
      ]
     },
     "execution_count": 130,
     "metadata": {},
     "output_type": "execute_result"
    }
   ],
   "source": [
    "# diff = np.array([])\n",
    "last_improvement = len(diff) - diff[::-1].argmax()\n",
    "last_improvement"
   ]
  },
  {
   "cell_type": "code",
   "execution_count": 123,
   "metadata": {},
   "outputs": [
    {
     "data": {
      "text/plain": [
       "3"
      ]
     },
     "execution_count": 123,
     "metadata": {},
     "output_type": "execute_result"
    }
   ],
   "source": [
    "np.where(np.array([0, .1, .05])>0)[0].argmax()+2"
   ]
  },
  {
   "cell_type": "code",
   "execution_count": 22,
   "metadata": {},
   "outputs": [],
   "source": [
    "def early_stopping(valid_results, patience = 0, objective = 'max'):\n",
    "    '''\n",
    "    Returns True is valid_loss did not increase for the last 'patience' epochs.\n",
    "\n",
    "    params:\n",
    "        valid_results: dictionary with the validation metric results per epoch\n",
    "        patience: number of allowed epochs without improvement\n",
    "        mode: whether to maximize or minimize the  metric\n",
    "\n",
    "    '''\n",
    "    \n",
    "    if len(valid_results) <= 1:\n",
    "        return False\n",
    "    \n",
    "    means = [np.mean(valid_results[epoch]) for epoch in valid_results]\n",
    "    cur_epoch = len(means)\n",
    "    diff = np.diff(means)\n",
    "    \n",
    "    print(means, diff)\n",
    "    \n",
    "   \n",
    "    if objective == 'max':\n",
    "        last_improvement = len(diff) - diff[::-1].argmax() + 1\n",
    "    elif objective == 'min':\n",
    "        last_improvement = len(diff) - diff[::-1].argmin() + 1\n",
    "    else:\n",
    "        raise NotImplementedError()\n",
    "    \n",
    "    stop = cur_epoch - last_improvement > patience\n",
    "\n",
    "    return stop"
   ]
  },
  {
   "cell_type": "code",
   "execution_count": 42,
   "metadata": {},
   "outputs": [],
   "source": [
    "means= [np.mean(valid_ndcg[epoch]) for epoch in valid_ndcg]"
   ]
  },
  {
   "cell_type": "code",
   "execution_count": 58,
   "metadata": {},
   "outputs": [],
   "source": [
    "cur_epoch = len(means)"
   ]
  },
  {
   "cell_type": "code",
   "execution_count": 51,
   "metadata": {},
   "outputs": [],
   "source": [
    "diff = np.diff(means)"
   ]
  },
  {
   "cell_type": "code",
   "execution_count": 60,
   "metadata": {},
   "outputs": [],
   "source": [
    "last_increase = np.where(diff>0)[0].argmax() + 2"
   ]
  },
  {
   "cell_type": "code",
   "execution_count": 62,
   "metadata": {},
   "outputs": [
    {
     "data": {
      "text/plain": [
       "False"
      ]
     },
     "execution_count": 62,
     "metadata": {},
     "output_type": "execute_result"
    }
   ],
   "source": [
    "cur_epoch - last_increase > 0"
   ]
  },
  {
   "cell_type": "code",
   "execution_count": 22,
   "metadata": {},
   "outputs": [
    {
     "name": "stderr",
     "output_type": "stream",
     "text": [
      "100%|████████████████████████████████| 6734/6734 [00:25<00:00, 261.62it/s, TEST: loss 936.805\t NDCG: 0.735\t ERR: 0.269]\n"
     ]
    }
   ],
   "source": [
    "def evaluate(model, dataloader):\n",
    "    test_loss = list()\n",
    "    test_ndcg = list()\n",
    "    test_err  = list()\n",
    "\n",
    "    with tqdm(total=len(dataloader)) as t:\n",
    "        with torch.no_grad():\n",
    "            model.eval()\n",
    "            for ix, (X,y) in enumerate(dataloader):\n",
    "                X = X.cuda().float().squeeze(0)\n",
    "                y = y.cuda().float().squeeze(0)\n",
    "\n",
    "                y_hat = model(X).sigmoid().squeeze(1)\n",
    "\n",
    "                # compute loss\n",
    "                loss = critereon(y_hat, y)\n",
    "                ndcg_batch = ndcg(y_hat, y).item()\n",
    "                err_batch = err(y_hat, y).item()\n",
    "                test_loss.append(loss.item())\n",
    "                test_ndcg.append(ndcg_batch)\n",
    "                test_err.append(err_batch)\n",
    "                \n",
    "                t.update()\n",
    "                if ix % 50 == 0:\n",
    "                    t.set_postfix_str(f'TEST: loss {loss.item():.3f}\\t NDCG: {ndcg_batch:.3f}\\t ERR: {err_batch:.3f}')\n",
    "                    \n",
    "\n",
    "        mean_test_ndcg = np.mean(test_ndcg)\n",
    "        mean_test_loss = np.mean(test_loss)\n",
    "        mean_test_err  = np.mean(test_err)\n",
    "\n",
    "        t.set_postfix_str(f'TEST: loss {mean_test_loss:.3f}\\t NDCG: {mean_test_ndcg:.3f}\\t ERR: {mean_test_err:.3f}')\n",
    "    \n",
    "\n",
    "    return test_loss, test_ndcg, test_err\n",
    "\n",
    "results = evaluate(model, test_dl)"
   ]
  },
  {
   "cell_type": "code",
   "execution_count": 14,
   "metadata": {},
   "outputs": [],
   "source": [
    "learning_rate = [0.0001, 0.001, 0.1]\n",
    "sigma = [0, 0.1, 0.5, 1]\n"
   ]
  },
  {
   "cell_type": "code",
   "execution_count": 17,
   "metadata": {},
   "outputs": [],
   "source": [
    "configs = [{'learning_rate':l, 'sigma':s} for l in learning_rate for s in sigma]"
   ]
  },
  {
   "cell_type": "code",
   "execution_count": 19,
   "metadata": {},
   "outputs": [],
   "source": [
    "results = {}"
   ]
  },
  {
   "cell_type": "code",
   "execution_count": 20,
   "metadata": {},
   "outputs": [
    {
     "ename": "TypeError",
     "evalue": "unhashable type: 'dict'",
     "output_type": "error",
     "traceback": [
      "\u001b[1;31m---------------------------------------------------------------------------\u001b[0m",
      "\u001b[1;31mTypeError\u001b[0m                                 Traceback (most recent call last)",
      "\u001b[1;32m<ipython-input-20-452962dcf34b>\u001b[0m in \u001b[0;36m<module>\u001b[1;34m()\u001b[0m\n\u001b[1;32m----> 1\u001b[1;33m \u001b[0mresults\u001b[0m\u001b[1;33m[\u001b[0m\u001b[0mconfigs\u001b[0m\u001b[1;33m[\u001b[0m\u001b[1;36m0\u001b[0m\u001b[1;33m]\u001b[0m\u001b[1;33m]\u001b[0m\u001b[1;33m\u001b[0m\u001b[1;33m\u001b[0m\u001b[0m\n\u001b[0m",
      "\u001b[1;31mTypeError\u001b[0m: unhashable type: 'dict'"
     ]
    }
   ],
   "source": [
    "results[configs[0]]"
   ]
  },
  {
   "cell_type": "code",
   "execution_count": 30,
   "metadata": {},
   "outputs": [
    {
     "data": {
      "text/plain": [
       "[]"
      ]
     },
     "execution_count": 30,
     "metadata": {},
     "output_type": "execute_result"
    }
   ],
   "source": [
    "valid_ndcg[]"
   ]
  },
  {
   "cell_type": "code",
   "execution_count": 18,
   "metadata": {},
   "outputs": [
    {
     "data": {
      "text/plain": [
       "[{'learning_rate': 0.0001, 'sigma': 0},\n",
       " {'learning_rate': 0.0001, 'sigma': 0.1},\n",
       " {'learning_rate': 0.0001, 'sigma': 0.5},\n",
       " {'learning_rate': 0.0001, 'sigma': 1},\n",
       " {'learning_rate': 0.001, 'sigma': 0},\n",
       " {'learning_rate': 0.001, 'sigma': 0.1},\n",
       " {'learning_rate': 0.001, 'sigma': 0.5},\n",
       " {'learning_rate': 0.001, 'sigma': 1},\n",
       " {'learning_rate': 0.1, 'sigma': 0},\n",
       " {'learning_rate': 0.1, 'sigma': 0.1},\n",
       " {'learning_rate': 0.1, 'sigma': 0.5},\n",
       " {'learning_rate': 0.1, 'sigma': 1}]"
      ]
     },
     "execution_count": 18,
     "metadata": {},
     "output_type": "execute_result"
    }
   ],
   "source": [
    "configs"
   ]
  },
  {
   "cell_type": "code",
   "execution_count": 146,
   "metadata": {},
   "outputs": [
    {
     "data": {
      "image/png": "[encoded data removed]",
      "text/plain": [
       "<Figure size 720x288 with 2 Axes>"
      ]
     },
     "metadata": {
      "needs_background": "light"
     },
     "output_type": "display_data"
    }
   ],
   "source": [
    "# train loop\n",
    "def plot_loss_ndcg(train_loss, valid_loss, train_ndcg, valid_ndcg):\n",
    "    f, (ax1, ax2) = plt.subplots(1,2, figsize=(10,4))\n",
    "    \n",
    "    ax1.plot([np.mean(train_loss[epoch]) for epoch in train_loss], label='train')\n",
    "    ax1.plot([np.mean(valid_loss[epoch]) for epoch in valid_loss], label='valid')\n",
    "    ax1.set_xlabel('Epoch')\n",
    "    ax1.set_ylabel('Loss')\n",
    "    \n",
    "    ax2.plot([np.mean(train_ndcg[epoch]) for epoch in train_ndcg], label='train')\n",
    "    ax2.plot([np.mean(valid_ndcg[epoch]) for epoch in valid_ndcg], label='valid')\n",
    "    ax2.set_xlabel('Epoch')\n",
    "    ax2.set_ylabel('NDCG')\n",
    "    \n",
    "    \n",
    "    \n",
    "    ax1.grid(linewidth=0.5, linestyle='--')\n",
    "    ax1.legend()\n",
    "    \n",
    "    ax2.grid(linewidth=0.5, linestyle='--')\n",
    "    ax2.legend()\n",
    "    \n",
    "    plt.tight_layout()\n",
    "    plt.show()\n",
    "    \n",
    "plot_loss_ndcg(train_loss, valid_loss, train_ndcg, valid_ndcg)\n"
   ]
  },
  {
   "cell_type": "code",
   "execution_count": null,
   "metadata": {},
   "outputs": [],
   "source": []
  }
 ],
 "metadata": {
  "kernelspec": {
   "display_name": "Python 3",
   "language": "python",
   "name": "python3"
  },
  "language_info": {
   "codemirror_mode": {
    "name": "ipython",
    "version": 3
   },
   "file_extension": ".py",
   "mimetype": "text/x-python",
   "name": "python",
   "nbconvert_exporter": "python",
   "pygments_lexer": "ipython3",
   "version": "3.7.3"
  }
 },
 "nbformat": 4,
 "nbformat_minor": 2
}
