{
 "cells": [
  {
   "cell_type": "code",
   "execution_count": 9,
   "metadata": {},
   "outputs": [],
   "source": [
    "from gensim.models import LsiModel, LdaModel, TfidfModel\n",
    "from gensim import corpora, similarities\n",
    "import lsa_lda\n",
    "import read_ap\n",
    "import os\n",
    "import time"
   ]
  },
  {
   "cell_type": "code",
   "execution_count": 3,
   "metadata": {},
   "outputs": [],
   "source": [
    "top_n_topcis = 5"
   ]
  },
  {
   "cell_type": "code",
   "execution_count": 4,
   "metadata": {},
   "outputs": [
    {
     "name": "stderr",
     "output_type": "stream",
     "text": [
      "WARNING:root:random_state not set so using default value\n",
      "WARNING:root:failed to load state from models/lsi_tfidf.state: [Errno 2] No such file or directory: 'models/lsi_tfidf.state'\n"
     ]
    }
   ],
   "source": [
    "# load models\n",
    "lsa_bin   = LsiModel.load('models/lsi_bin')\n",
    "lsa_tfidf = LsiModel.load('models/lsi_tfidf')\n",
    "lda_tfidf = LdaModel.load('models/lsi_tfidf')"
   ]
  },
  {
   "cell_type": "markdown",
   "metadata": {},
   "source": [
    "### AQ3.1: Top 5 topics"
   ]
  },
  {
   "cell_type": "code",
   "execution_count": 19,
   "metadata": {},
   "outputs": [
    {
     "data": {
      "text/plain": [
       "[(0,\n",
       "  '0.123*\"bush\" + 0.114*\"percent\" + 0.094*\"soviet\" + 0.080*\"stock\" + 0.078*\"dukaki\" + 0.077*\"``\" + 0.077*\"govern\" + 0.076*\"\\'\\'\" + 0.075*\"presid\" + 0.074*\"market\"'),\n",
       " (1,\n",
       "  '-0.321*\"cent\" + -0.270*\"stock\" + -0.211*\"market\" + -0.180*\"price\" + -0.171*\"trade\" + -0.162*\"index\" + -0.144*\"percent\" + -0.137*\"yen\" + -0.129*\"rate\" + -0.128*\"dollar\"'),\n",
       " (2,\n",
       "  '-0.561*\"cent\" + -0.197*\"bushel\" + 0.185*\"stock\" + 0.179*\"dukaki\" + -0.172*\"soybean\" + 0.149*\"bush\" + 0.131*\"percent\" + -0.126*\"lower\" + -0.113*\"higher\" + -0.112*\"wheat\"'),\n",
       " (3,\n",
       "  '0.366*\"dukaki\" + 0.355*\"cent\" + 0.309*\"bush\" + 0.163*\"democrat\" + 0.160*\"jackson\" + 0.140*\"campaign\" + -0.127*\"stock\" + 0.126*\"bushel\" + 0.122*\"republican\" + -0.122*\"palestinian\"'),\n",
       " (4,\n",
       "  '-0.244*\"soviet\" + -0.182*\"palestinian\" + -0.163*\"israel\" + -0.155*\"bush\" + -0.152*\"yen\" + -0.140*\"isra\" + -0.122*\"dukaki\" + -0.117*\"gorbachev\" + -0.113*\"dollar\" + -0.106*\"arab\"')]"
      ]
     },
     "execution_count": 19,
     "metadata": {},
     "output_type": "execute_result"
    }
   ],
   "source": [
    "lsa_tfidf.print_topics(num_topics=5)"
   ]
  },
  {
   "cell_type": "code",
   "execution_count": 24,
   "metadata": {},
   "outputs": [],
   "source": []
  },
  {
   "cell_type": "code",
   "execution_count": 14,
   "metadata": {},
   "outputs": [],
   "source": [
    "def query(q, model='lsi_bin'):\n",
    "    assert model in ['lsi_bin', 'lsi_tfidf', 'lda_tfidf']\n",
    "\n",
    "    index = lsa_lda.get_index(model)\n",
    "    dictionary = lsa_lda.get_dictionary()\n",
    "\n",
    "    # get doc representation\n",
    "    q = read_ap.process_text(q)\n",
    "    q = dictionary.doc2bow(q)\n",
    "    print(q)\n",
    "    sims = index[q]\n",
    "\n",
    "    sims = sorted(enumerate(sims), key=lambda item: -item[1])\n",
    "    for i, s in enumerate(sims):\n",
    "        print(s, documents[i])\n",
    "\n",
    "    \n",
    "    return sims"
   ]
  },
  {
   "cell_type": "code",
   "execution_count": 43,
   "metadata": {},
   "outputs": [],
   "source": [
    "model = 'lda_tfidf'\n",
    "index = lsa_lda.get_index(model)\n",
    "dictionary = lsa_lda.get_dictionary()\n",
    "\n",
    "# get doc representation\n",
    "q = 'Stock market manipulation money'\n",
    "q = read_ap.process_text(q)\n",
    "q = dictionary.doc2bow(q)"
   ]
  },
  {
   "cell_type": "code",
   "execution_count": 44,
   "metadata": {},
   "outputs": [
    {
     "name": "stdout",
     "output_type": "stream",
     "text": [
      "[(380, 1), (430, 1), (618, 1), (673, 1), (5868, 1)]\n",
      "(0, 0.0) 0\n",
      "(1, 0.0) 1\n",
      "(2, 0.0) 2\n",
      "(3, 0.0) 3\n",
      "(4, 0.0) 4\n",
      "(5, 0.0) 5\n",
      "(6, 0.0) 6\n",
      "(7, 0.0) 7\n",
      "(8, 0.0) 8\n",
      "(9, 0.0) 9\n"
     ]
    }
   ],
   "source": [
    "print(q)\n",
    "sims = index[q]\n",
    "\n",
    "sims = sorted(enumerate(sims), key=lambda item: -item[1])\n",
    "for i, s in enumerate(sims[:10]):\n",
    "    print(s, i)"
   ]
  },
  {
   "cell_type": "code",
   "execution_count": 35,
   "metadata": {},
   "outputs": [
    {
     "name": "stdout",
     "output_type": "stream",
     "text": [
      "Wall time: 1min 11s\n"
     ]
    }
   ],
   "source": [
    "%%time\n",
    "lsa_lda.create_index('lsi_bin')"
   ]
  },
  {
   "cell_type": "code",
   "execution_count": 36,
   "metadata": {},
   "outputs": [
    {
     "name": "stdout",
     "output_type": "stream",
     "text": [
      "Wall time: 2min 30s\n"
     ]
    }
   ],
   "source": [
    "%%time\n",
    "lsa_lda.create_index('lsi_tfidf')"
   ]
  }
 ],
 "metadata": {
  "kernelspec": {
   "display_name": "Python 3",
   "language": "python",
   "name": "python3"
  },
  "language_info": {
   "codemirror_mode": {
    "name": "ipython",
    "version": 3
   },
   "file_extension": ".py",
   "mimetype": "text/x-python",
   "name": "python",
   "nbconvert_exporter": "python",
   "pygments_lexer": "ipython3",
   "version": "3.7.3"
  }
 },
 "nbformat": 4,
 "nbformat_minor": 2
}
