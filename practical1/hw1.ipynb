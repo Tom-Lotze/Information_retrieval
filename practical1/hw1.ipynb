{
 "cells": [
  {
   "cell_type": "markdown",
   "metadata": {},
   "source": [
    "# Homework 1 (Total Points: 175)\n",
    "\n",
    "\n",
    "\n",
    "Learning Goals:\n",
    "- Learn how to load a dataset and process it.\n",
    "- Learn how to implement several IR methods (TFIDF, BM25, QL) and understand their weaknesses & strengths.\n",
    "- Learn how to evaluate IR methods\n",
    "\n",
    "\n",
    "**NOTE 1**: Only the code (`TODO: Implement this!` denotes these sections) is graded. The 'theory' questions in this assignment serve as a preparation for the exam and to facilitate a deeper understanding of the course content. These questions (denoted by `TODO: Answer this!`) have no points assigned to them, but **need** to be filled out before submission.  \n",
    "\n",
    "**NOTE 2**: You can use the `nltk`, `numpy` and `matplotlib` libraries here. Other libraries, e.g., `gensim` or `scikit-learn`, may not be used. \n",
    "\n",
    "**NOTE 3**: The notebook you submit has to have the student ids, seperated by underscores (E.g., `12341234_12341234_12341234.ipynb`). \n",
    "\n",
    "**NOTE 4**: Make sure to check that your notebook runs before submission. A quick way to do this is to restart the kernel and run all the cells.  \n",
    "\n",
    "---\n",
    "Additional Resources: \n",
    "-  Sections 2.3, 4.1, 4.2, 4.3, 5.3, 5.6, 5.7, 6.2, 7, 8 of [Search Engines: Information Retrieval in Practice](https://ciir.cs.umass.edu/downloads/SEIRiP.pdf)\n"
   ]
  },
  {
   "cell_type": "code",
   "execution_count": 2,
   "metadata": {},
   "outputs": [
    {
     "name": "stderr",
     "output_type": "stream",
     "text": [
      "/Users/TomLotze/miniconda3/envs/IR1-hw1/lib/python3.6/site-packages/IPython/html.py:14: ShimWarning: The `IPython.html` package has been deprecated since IPython 4.0. You should import from `notebook` instead. `IPython.html.widgets` has moved to `ipywidgets`.\n",
      "  \"`IPython.html.widgets` has moved to `ipywidgets`.\", ShimWarning)\n"
     ]
    }
   ],
   "source": [
    "# imports \n",
    "# TODO: Ensure that no additional library is imported in the notebook. \n",
    "# TODO: Only the standard library and the following libraries are allowed:\n",
    "\n",
    "import os\n",
    "import zipfile\n",
    "from functools import partial\n",
    "\n",
    "import nltk\n",
    "import requests\n",
    "import numpy as np\n",
    "from tqdm import tqdm\n",
    "\n",
    "import matplotlib.pyplot as plt\n",
    "\n",
    "from ipywidgets import widgets\n",
    "from IPython.display import display, HTML\n",
    "from IPython.html import widgets\n",
    "from collections import namedtuple, defaultdict\n",
    "\n",
    "%matplotlib inline"
   ]
  },
  {
   "cell_type": "markdown",
   "metadata": {},
   "source": [
    "## Section 1: Text Processing (20 points)\n",
    "\n",
    "In this section, we will load the dataset and learn how to clean up the data to make it usable for an IR system. \n",
    "\n",
    "We are using the [CACM dataset](http://ir.dcs.gla.ac.uk/resources/test_collections/cacm/), which is a small, classic IR dataset, composed of a collection of titles and abstracts from the journal CACM. It comes with relevance judgements for queries, so we can evaluate our IR system. \n",
    "\n",
    "The following cell downloads the dataset and unzips it to a local directory"
   ]
  },
  {
   "cell_type": "code",
   "execution_count": 3,
   "metadata": {},
   "outputs": [],
   "source": [
    "def download_dataset(folder_path = \"./datasets/\"):\n",
    "    \n",
    "    os.makedirs(folder_path, exist_ok=True)\n",
    "    \n",
    "    file_location = os.path.join(folder_path, \"cacm.zip\")\n",
    "    \n",
    "    # download file if it doesn't exist\n",
    "    if not os.path.exists(file_location):\n",
    "        \n",
    "        url = \"https://surfdrive.surf.nl/files/index.php/s/M0FGJpX2p8wDwxR/download\"\n",
    "\n",
    "        with open(file_location, \"wb\") as handle:\n",
    "            print(f\"Downloading file from {url} to {file_location}\")\n",
    "            response = requests.get(url, stream=True)\n",
    "            for data in tqdm(response.iter_content()):\n",
    "                handle.write(data)\n",
    "            print(\"Finished downloading file\")\n",
    "    \n",
    "    if not os.path.exists(os.path.join(folder_path, \"train.txt\")):\n",
    "        \n",
    "        # unzip file\n",
    "        with zipfile.ZipFile(file_location, 'r') as zip_ref:\n",
    "            zip_ref.extractall(folder_path)\n",
    "        \n",
    "download_dataset()"
   ]
  },
  {
   "cell_type": "markdown",
   "metadata": {},
   "source": [
    "You can see a brief description of each file in the dataset by looking at the README file"
   ]
  },
  {
   "cell_type": "code",
   "execution_count": 4,
   "metadata": {},
   "outputs": [
    {
     "name": "stdout",
     "output_type": "stream",
     "text": [
      "Files in this directory with sizes:\r\n",
      "          0 Jun 19 21:01 README\r\n",
      "\r\n",
      "    2187734 Jun 19 20:55 cacm.all              text of documents\r\n",
      "        626 Jun 19 20:58 cite.info             key to citation info\r\n",
      "                                                (the X sections in cacm.all)\r\n",
      "       2668 Jun 19 20:55 common_words           stop words used by smart\r\n",
      "       2194 Jun 19 20:55 make_coll*             shell script to make collection\r\n",
      "       1557 Jun 19 20:55 make_coll_term*        ditto (both useless without\r\n",
      "                                                smart system)\r\n",
      "       9948 Jun 19 20:55 qrels.text             relation giving\r\n",
      "                                                    qid did 0 0\r\n",
      "                                                to indicate dument did is\r\n",
      "                                                relevant to query qid\r\n",
      "      13689 Jun 19 20:55 query.text             Original text of the query\r\n"
     ]
    }
   ],
   "source": [
    "##### Read the README file \n",
    "!cat ./datasets/README\n",
    "#####"
   ]
  },
  {
   "cell_type": "markdown",
   "metadata": {},
   "source": [
    "----\n",
    "We are interested in 4 files:\n",
    "- `cacm.all` : Contains the text for all documents. Note that some documents do not have abstracts available. \n",
    "- `query.text` : The text of all queries\n",
    "- `qrels.text` : The relevance judgements\n",
    "- `common_words` : A list of common words. This may be used as a collection of stopwords"
   ]
  },
  {
   "cell_type": "code",
   "execution_count": 5,
   "metadata": {},
   "outputs": [
    {
     "name": "stdout",
     "output_type": "stream",
     "text": [
      ".I 1\r\n",
      ".T\r\n",
      "Preliminary Report-International Algebraic Language\r\n",
      ".B\r\n",
      "CACM December, 1958\r\n",
      ".A\r\n",
      "Perlis, A. J.\r\n",
      "Samelson,K.\r\n",
      ".N\r\n",
      "CA581203 JB March 22, 1978  8:28 PM\r\n",
      ".X\r\n",
      "100\t5\t1\r\n",
      "123\t5\t1\r\n",
      "164\t5\t1\r\n",
      "1\t5\t1\r\n",
      "1\t5\t1\r\n",
      "1\t5\t1\r\n",
      "205\t5\t1\r\n",
      "210\t5\t1\r\n",
      "214\t5\t1\r\n",
      "1982\t5\t1\r\n",
      "398\t5\t1\r\n",
      "642\t5\t1\r\n",
      "669\t5\t1\r\n",
      "1\t6\t1\r\n",
      "1\t6\t1\r\n",
      "1\t6\t1\r\n",
      "1\t6\t1\r\n",
      "1\t6\t1\r\n",
      "1\t6\t1\r\n",
      "1\t6\t1\r\n",
      "1\t6\t1\r\n",
      "1\t6\t1\r\n",
      "1\t6\t1\r\n",
      "165\t6\t1\r\n",
      "196\t6\t1\r\n",
      "196\t6\t1\r\n",
      "1273\t6\t1\r\n",
      "1883\t6\t1\r\n",
      "324\t6\t1\r\n",
      "43\t6\t1\r\n",
      "53\t6\t1\r\n",
      "91\t6\t1\r\n",
      "410\t6\t1\r\n",
      "3184\t6\t1\r\n"
     ]
    }
   ],
   "source": [
    "##### The first 45 lines of the CACM dataset forms the first record\n",
    "# We are interested only in 3 fields. \n",
    "# 1. the '.I' field, which is the document id\n",
    "# 2. the '.T' field (the title) and\n",
    "# 3. the '.W' field (the abstract, which may be absent)\n",
    "!head -45 ./datasets/cacm.all\n",
    "#####"
   ]
  },
  {
   "cell_type": "markdown",
   "metadata": {},
   "source": [
    "---\n",
    "\n",
    "Now, write a function to read in the `cacm.all` file. Note that each document has a variable number of lines. The `.I` field denotes a new document"
   ]
  },
  {
   "cell_type": "code",
   "execution_count": 6,
   "metadata": {},
   "outputs": [],
   "source": [
    "# TODO: Implement this! (4 points)\n",
    "def read_cacm_docs(root_folder = \"./datasets/\"):\n",
    "    \"\"\"\n",
    "        Reads in the CACM documents. The dataset is assumed to be in the folder \"./datasets/cacm\" be default\n",
    "        Returns: A list of 2-tuples: (doc_id, document), where 'document' is a single string created by \n",
    "            appending the title and abstract (seperated by a \"\\n\"). \n",
    "            In case the record doesn't have an abstract, the document is composed only by the title\n",
    "    \"\"\"\n",
    "    \n",
    "    filepath = os.path.join(root_folder, 'cacm.all')\n",
    "    doc_ids = []\n",
    "    documents = []\n",
    "    \n",
    "    with open(filepath, 'r') as f:\n",
    "        docs = f.read().split('.I ')[1:]\n",
    "    \n",
    "    for doc in docs:\n",
    "        lines = doc.split('\\n')\n",
    "        doc_id = int(lines[0])\n",
    "        title = lines[lines.index('.T')+1]\n",
    "\n",
    "        if '.W' in lines:\n",
    "            start = lines.index('.W')+1\n",
    "            end   = lines.index('.B')\n",
    "            abstract = '\\n'+'  '.join(lines[start:end])\n",
    "\n",
    "        else:\n",
    "            abstract = ''\n",
    "        \n",
    "        doc_ids.append(doc_id)\n",
    "        documents.append(title + abstract)\n",
    "        \n",
    "    return list(zip(doc_ids, documents))\n",
    "\n",
    "docs = read_cacm_docs()"
   ]
  },
  {
   "cell_type": "code",
   "execution_count": 7,
   "metadata": {},
   "outputs": [],
   "source": [
    "##### \n",
    "assert len(docs) == 3204, \"There should be exactly 3024 documents\"\n",
    "##### "
   ]
  },
  {
   "cell_type": "markdown",
   "metadata": {},
   "source": [
    "---\n",
    "\n",
    "Next, let us read the queries. They are formatted similarly: "
   ]
  },
  {
   "cell_type": "code",
   "execution_count": 8,
   "metadata": {},
   "outputs": [
    {
     "name": "stdout",
     "output_type": "stream",
     "text": [
      ".I 1\r\n",
      ".W\r\n",
      " What articles exist which deal with TSS (Time Sharing System), an\r\n",
      "operating system for IBM computers?\r\n",
      ".N\r\n",
      " 1. Richard Alexander, Comp Serv, Langmuir Lab (TSS)\r\n",
      " \r\n",
      ".I 2\r\n",
      ".W\r\n",
      " I am interested in articles written either by Prieve or Udo Pooch\r\n",
      ".A\r\n",
      "Prieve, B.\r\n",
      "Pooch, U.\r\n",
      ".N\r\n",
      " 2. Richard Alexander, Comp Serv, Langmuir Lab (author = Pooch or Prieve)\r\n"
     ]
    }
   ],
   "source": [
    "##### The first 15 lines of 'query.text' has 2 queries\n",
    "# We are interested only in 2 fields. \n",
    "# 1. the '.I' - the query id\n",
    "# 2. the '.W' - the query\n",
    "!head -15 ./datasets/query.text\n",
    "#####"
   ]
  },
  {
   "cell_type": "markdown",
   "metadata": {},
   "source": [
    "---\n",
    "\n",
    "Now, write a function to read in this file:"
   ]
  },
  {
   "cell_type": "code",
   "execution_count": 9,
   "metadata": {},
   "outputs": [],
   "source": [
    "# TODO: Implement this! (3 points)\n",
    "def read_queries(root_folder = \"./datasets/\"):\n",
    "    \"\"\"\n",
    "        Reads in the CACM queries. The dataset is assumed to be in the folder \"./datasets/\" be default\n",
    "        Returns: A list of 2-tuples: (query_id, query)\n",
    "    \"\"\"\n",
    "    \n",
    "    queries   = []\n",
    "    filepath = os.path.join(root_folder, 'query.text')\n",
    "    \n",
    "    with open(filepath, 'r') as f:\n",
    "        queries_unprocessed = f.read().split('.I')[1:]\n",
    "        \n",
    "    for q in queries_unprocessed:\n",
    "        lines = q.split('\\n')\n",
    "        \n",
    "        query_id = int(lines[0])\n",
    "        \n",
    "        start = lines.index('.W')+1\n",
    "        end   = lines.index('.N') if '.A' not in lines else lines.index('.A')\n",
    "        query = ' '.join(lines[start:end])\n",
    "        \n",
    "        queries.append((query_id, query))\n",
    "        \n",
    "    return queries\n",
    "    \n",
    "    \n",
    "queries = read_queries()"
   ]
  },
  {
   "cell_type": "code",
   "execution_count": 10,
   "metadata": {},
   "outputs": [],
   "source": [
    "##### \n",
    "assert len(queries) == 64 and all([q[1] is not None for q in queries]), \"There should be exactly 64 queries\"\n",
    "##### "
   ]
  },
  {
   "cell_type": "markdown",
   "metadata": {},
   "source": [
    "---\n",
    "\n",
    "Read in the stop words:"
   ]
  },
  {
   "cell_type": "code",
   "execution_count": 11,
   "metadata": {},
   "outputs": [
    {
     "name": "stdout",
     "output_type": "stream",
     "text": [
      "a\r\n",
      "about\r\n",
      "above\r\n",
      "accordingly\r\n",
      "across\r\n",
      "after\r\n",
      "afterwards\r\n",
      "again\r\n",
      "against\r\n",
      "all\r\n"
     ]
    }
   ],
   "source": [
    "!head ./datasets/common_words"
   ]
  },
  {
   "cell_type": "code",
   "execution_count": 12,
   "metadata": {},
   "outputs": [],
   "source": [
    "# TODO: Implement this! (3 points)\n",
    "def load_stopwords(root_folder = \"./datasets\"):\n",
    "    \"\"\"\n",
    "    Load the stopwords\n",
    "    Output: A set of stopwords\n",
    "    \"\"\"\n",
    "    \n",
    "    filepath = os.path.join(root_folder, 'common_words')\n",
    "    \n",
    "    with open(filepath, 'r') as f:\n",
    "        stopwords = set(f.read().split())\n",
    "    \n",
    "    return stopwords\n",
    "\n",
    "stopwords = load_stopwords()\n",
    "assert len(stopwords) == 428"
   ]
  },
  {
   "cell_type": "markdown",
   "metadata": {},
   "source": [
    "--- \n",
    "\n",
    "We can now write some basic text processing functions. A first step is to tokenize the text. You may use any tokenizer available in the `nltk` library:"
   ]
  },
  {
   "cell_type": "code",
   "execution_count": 13,
   "metadata": {},
   "outputs": [
    {
     "name": "stderr",
     "output_type": "stream",
     "text": [
      "[nltk_data] Downloading package punkt to /Users/TomLotze/nltk_data...\n",
      "[nltk_data]   Package punkt is already up-to-date!\n"
     ]
    }
   ],
   "source": [
    "# TODO: Implement this! (5 points)\n",
    "nltk.download('punkt')\n",
    "\n",
    "def tokenize(text):\n",
    "    \"\"\"\n",
    "        Tokenize the text. \n",
    "        Input: text - a string\n",
    "        Output: a list of tokens\n",
    "    \"\"\"\n",
    "    \n",
    "    return nltk.tokenize.word_tokenize(text)\n",
    "    "
   ]
  },
  {
   "cell_type": "code",
   "execution_count": 14,
   "metadata": {},
   "outputs": [
    {
     "name": "stdout",
     "output_type": "stream",
     "text": [
      "['the', 'quick', 'brown', 'fox', 'jumps', 'over', 'the', 'lazy', 'dog']\n"
     ]
    }
   ],
   "source": [
    "#####\n",
    "text = \"the quick brown fox jumps over the lazy dog\"\n",
    "tokens = tokenize(text)\n",
    "print(tokens)\n",
    "#####"
   ]
  },
  {
   "cell_type": "markdown",
   "metadata": {},
   "source": [
    "---\n",
    "\n",
    "*Answer the following questions*: \n",
    "- Why is stemming necessary, in particular for IR?\n",
    "    - TODO: Answer this!\n",
    "    - Stemming removes unnecessary information captures in suffixed and affixes, and keeps the information embedded in the stem. It makes the IR system more flexible and the IR task simpler as different word forms can be recognized as the same query word (which is stemmed as well). \n",
    "- Is there any setting (domain, scenario, etc) in which stemming can hurt performance? Illustrate with an example\n",
    "    - *TODO: Answer this!*\n",
    "    - Stemmers may generate false positives by overstemming (words that are stemmed to the same root while they should not have been), an example: university, universal and universe are all stemmed to \"univers\" (source: https://en.wikipedia.org/wiki/Stemming#Error_metrics). \n",
    "    - A domain which could suffer from errors in stemming would be a collection of medical texts. In medical texts, words with a Greek and Latin origin frequently occur. These words are conjugated differently than according to traditional English grammar. Example: Alumnus -> alumnu, alumni -> alumni, alumna -> alumna, this is an example of understemming. The word should have been stemmed to the same root, but they are not, as they do not follow standard English grammar. \n",
    "    Two different words may have the same without having the same semantical meaning. An example would be: "
   ]
  },
  {
   "cell_type": "markdown",
   "metadata": {},
   "source": [
    "Write a function to stem tokens. Again, you can use the `nltk` library for this"
   ]
  },
  {
   "cell_type": "code",
   "execution_count": 15,
   "metadata": {},
   "outputs": [],
   "source": [
    "# TODO: Implement this! (5 points)\n",
    "def stem_token(token):\n",
    "    \"\"\"\n",
    "        Stem the given token, using any stemmer available from the nltk library\n",
    "        Input: a single token\n",
    "        Output: the stem of the token\n",
    "    \"\"\"\n",
    "    \n",
    "    stemmer = nltk.stem.PorterStemmer()\n",
    "    \n",
    "    return stemmer.stem(token)\n",
    "    "
   ]
  },
  {
   "cell_type": "code",
   "execution_count": 16,
   "metadata": {},
   "outputs": [
    {
     "name": "stdout",
     "output_type": "stream",
     "text": [
      "['the', 'quick', 'brown', 'fox', 'jump', 'over', 'the', 'lazi', 'dog']\n",
      "['caress', 'fli', 'die', 'mule', 'deni', 'die', 'agre', 'own', 'humbl', 'size', 'meet', 'state', 'siez', 'item', 'sensat', 'tradit', 'refer', 'colon', 'plot']\n"
     ]
    }
   ],
   "source": [
    "####\n",
    "print([stem_token(t) for t in tokens])\n",
    "tokens_ = [\n",
    "    'caresses', 'flies', 'dies', 'mules', 'denied',\n",
    "    'died', 'agreed', 'owned', 'humbled', 'sized',\n",
    "    'meeting', 'stating', 'siezing', 'itemization',\n",
    "    'sensational', 'traditional', 'reference', 'colonizer',\n",
    "    'plotted']\n",
    "print([stem_token(t) for t in tokens_])\n",
    "####"
   ]
  },
  {
   "cell_type": "markdown",
   "metadata": {},
   "source": [
    "---\n",
    "\n",
    "*Answer the following questions*: \n",
    "- Another processing step (not done here) is to use n-grams. Illustrate why you would want to use n-grams in IR with an example.  \n",
    "    - *TODO: Answer this!*\n",
    "    - Unigram models assume that words are independent from their neighbours. However, in natural language this is rarely the case. Using N-grams can enable us to capture dependencies in word sequences. An example we have seen in class is the query \"Paris Hilton\". If we take this query as two separate words, we may find a Hilton hotel in Paris. However, when we consider the bi-gram \"Paris Hilton\", it is clear that we are looking for the celebrity Paris Hilton. \n",
    "- Usage of n-grams exacerbates some problems ex. in bi-gram language models. What is this problem? Suggest one solution \n",
    "    - *TODO: Answer this!*\n",
    "    - When considering bi-grams rather than unigrams, the probability of encountering a new (unseen) bi-gram is higher than when considering unigrams. A solution could be to use laplace-smoothing, or backoff and interpolation (if bi-gram is unseen, try using the unigrams). "
   ]
  },
  {
   "cell_type": "markdown",
   "metadata": {},
   "source": [
    "--- \n",
    "\n",
    "The following function puts it all together. Given a string, it tokenizes it, and processes it according to the flags that you set."
   ]
  },
  {
   "cell_type": "code",
   "execution_count": 17,
   "metadata": {},
   "outputs": [],
   "source": [
    "#### Putting it all together\n",
    "def process_text(text, stem=False, remove_stopwords=False, lowercase_text=False):\n",
    "    \n",
    "    tokens = []\n",
    "    for token in tokenize(text):\n",
    "        if remove_stopwords and token.lower() in stopwords:\n",
    "            continue\n",
    "        if stem:\n",
    "            token = stem_token(token)\n",
    "        if lowercase_text:\n",
    "            token = token.lower()\n",
    "        tokens.append(token)\n",
    "\n",
    "    return tokens\n",
    "#### "
   ]
  },
  {
   "cell_type": "markdown",
   "metadata": {},
   "source": [
    "Let's create two sets of pre-processed documents"
   ]
  },
  {
   "cell_type": "code",
   "execution_count": 18,
   "metadata": {},
   "outputs": [],
   "source": [
    "# In this configuration:\n",
    "# Don't preprocess the text, except to tokenize \n",
    "config_1 = {\n",
    "  \"stem\": False,\n",
    "  \"remove_stopwords\" : False,\n",
    "  \"lowercase_text\": True\n",
    "} \n",
    "\n",
    "\n",
    "# In this configuration:\n",
    "# Preprocess the text: stem and remove stopwords\n",
    "config_2 = {\n",
    "  \"stem\": True,\n",
    "  \"remove_stopwords\" : True,\n",
    "  \"lowercase_text\": True, \n",
    "} \n",
    "\n"
   ]
  },
  {
   "cell_type": "markdown",
   "metadata": {},
   "source": [
    "We can now process the documents and queries according to the configuration specified above"
   ]
  },
  {
   "cell_type": "code",
   "execution_count": 19,
   "metadata": {},
   "outputs": [],
   "source": [
    "####\n",
    "doc_repr_1 = []\n",
    "doc_repr_2 = []\n",
    "for (doc_id, document) in docs:\n",
    "    doc_repr_1.append((doc_id, process_text(document, **config_1)))\n",
    "    doc_repr_2.append((doc_id, process_text(document, **config_2)))\n",
    "\n",
    "####"
   ]
  },
  {
   "cell_type": "markdown",
   "metadata": {},
   "source": [
    "\n",
    "--- \n",
    "\n",
    "## Section 2: Indexing (10 points)\n",
    "\n",
    "\n",
    "A retrieval function usually takes in a query document pair, and scores a query against a document.  Our document set is quite small - just a few thousand documents. However, consider a web-scale dataset with a few million documents. In such a scenario, it would become infeasible to score every query and document pair. In such a case, we can build an inverted index. From Wikipedia:\n",
    "\n",
    "> ... , an inverted index (also referred to as a postings file or inverted file) is a database index storing a mapping from content, such as words or numbers, to its locations in a table, .... The purpose of an inverted index is to allow fast full-text searches, at a cost of increased processing when a document is added to the database. ...\n",
    "\n",
    "\n",
    "Consider a simple inverted index, which maps from word to document. This can improve the performance of a retrieval system significantly. In this assignment, we consider a *simple* inverted index, which maps a word to a set of documents. In practice, however, more complex indices might be used.  \n",
    "\n",
    "\n",
    "### Building an index\n",
    "\n",
    "A retrieval function usually takes in a query document pair, and scores a query against a document.  Our document set is quite small - just a few thousand documents. However, consider a web-scale dataset with a few million documents. In such a scenario, it would become infeasible to score every query and document pair. In such a case, we can build an inverted index. From Wikipedia:\n",
    "\n",
    "> ... , an inverted index (also referred to as a postings file or inverted file) is a database index storing a mapping from content, such as words or numbers, to its locations in a table, .... The purpose of an inverted index is to allow fast full-text searches, at a cost of increased processing when a document is added to the database. ...\n",
    "\n",
    "\n",
    "Consider a simple inverted index, which maps from word to document. This can improve the performance of a retrieval system significantly. In this assignment, we consider a *simple* inverted index, which maps a word to a set of documents. In practice, however, more complex indices might be used.  \n"
   ]
  },
  {
   "cell_type": "markdown",
   "metadata": {},
   "source": [
    "---\n",
    "\n",
    "In this assignment we will be using an index created in memory, since our dataset is tiny. To get started, build a simple index that maps simply counts the number of tokens present in a document. This index  is built using a python dictionary.\n",
    "\n",
    "*Answer the following questions*:\n",
    "- What is the time complexity of retrieving a list of documents from a python `dict` object? \n",
    "    - *TODO: Answer this!* \n",
    "    - Since Python's dictionaries use hash tables, a search of documents would have an average time complexity $O(1)$. \n",
    "- Consider the case with a 10 million documents. What is the time complexity of retrieval with an inverted index (assuming you can fit the entire index in memory)? (Hint: Consider length of a query $|q|$) \n",
    "    - *TODO: Answer this!*\n",
    "    - First: q lookups in inverted index: $O(|q|)$. This yields k document IDs. Looking up the documents has a complexity of $k O(1)$. $kO(1) + O(|q|) = O(|q|)$. \n",
    "- For a large enough collection, we cannot store an index in memory. How is this tackled in practice (briefly explain)? Comment on the time complexity. \n",
    "    - *TODO: Answer this!*\n",
    "    - The inverted list is split in several blocks that do fit in memory. Say we need B blocks to fit the entire list in memory, we would have to look up the query B times more.\n",
    "- Mention a use-case in which a simple index (from word -> doc_id) might not suffice anymore. How would you modify the index to suit this use-case (if you can!)  \n",
    "    - *TODO: Answer this!*\n",
    "    - At some point, we migth want to index very large documents (e.g. books). Then, the fact that a term occurs in the document does not make it relevant per se. We can modify the index to contain counts or relative frequencies of the terms.\n",
    "    \n",
    "    \n",
    "Now, implement a function to build an index:"
   ]
  },
  {
   "cell_type": "code",
   "execution_count": 20,
   "metadata": {},
   "outputs": [],
   "source": [
    "# TODO: Implement this! 10 points\n",
    "def build_tf_index(documents):\n",
    "    \"\"\"\n",
    "    Build an inverted index (with counts). The output is a dictionary which takes in a token\n",
    "    and returns a list of (doc_id, count) where 'count' is the count of the 'token' in 'doc_id'\n",
    "    Input: a list of documents - (doc_id, tokens) \n",
    "    Output: An inverted index. [token] -> [(doc_id, token_count)]\n",
    "    \"\"\"\n",
    "    \n",
    "    index = defaultdict(list)\n",
    "    \n",
    "    for doc_id, doc in documents:\n",
    "        tokens, counts = np.unique(doc, return_counts=True)\n",
    "    \n",
    "        for token, count in zip(tokens, counts):\n",
    "            index[token].append((doc_id, count))\n",
    "   \n",
    "    return index\n",
    " \n",
    "# Create the 2 indices\n",
    "tf_index_1 = build_tf_index(doc_repr_1)\n",
    "tf_index_2 = build_tf_index(doc_repr_2)\n",
    "\n",
    "# This function returns the correct index \n",
    "def get_index(index_set):\n",
    "    assert index_set in {1, 2}\n",
    "    return {\n",
    "        1: tf_index_1,\n",
    "        2: tf_index_2\n",
    "    }[index_set]\n",
    "\n",
    "# This function correctly pre-processes the text given the index set\n",
    "def preprocess_query(text, index_set):\n",
    "    assert index_set in {1, 2}\n",
    "    if index_set == 1:\n",
    "        return process_text(text, **config_1)\n",
    "    elif index_set == 2:\n",
    "        return process_text(text, **config_2)\n",
    "    "
   ]
  },
  {
   "cell_type": "markdown",
   "metadata": {},
   "source": [
    "--- \n",
    "\n",
    "## Section 3: Retrieval  (80 points)\n",
    "\n",
    "Now that we have cleaned and processed our dataset, we can start building simple IR systems. \n",
    "\n",
    "For now, we consider *simple* IR systems, which involve computing scores from the tokens present in the document/query. More advanced methods are covered in later assignments.\n",
    "\n",
    "We will implement the following methods in this section:\n",
    "- TF-IDF\n",
    "- BM25\n",
    "- Query Likelihood Models\n",
    "\n",
    "--- \n",
    "\n",
    "### Ranking functions\n",
    "\n",
    "\n",
    "Probably the simplest IR model is the Bag of Words (BOW) model. Implement a function that scores a query against a document using this model.   \n",
    "\n",
    "Note that you can use either the count of the token or 'binarize' it i.e set the value equal to 1 if the token appears.   \n"
   ]
  },
  {
   "cell_type": "markdown",
   "metadata": {},
   "source": [
    "**Note:** Make sure you use the `get_index` function to retrieve the correct index, and call `preprocess_query` with the correct index!"
   ]
  },
  {
   "cell_type": "code",
   "execution_count": 21,
   "metadata": {},
   "outputs": [],
   "source": [
    "# TODO: Implement this! 10 points\n",
    "def bow_search(query, index_set):\n",
    "    \"\"\"\n",
    "        Perform a search over all documents with the given query. \n",
    "        Note #1: You have to use the `get_index` function created in the previous cells\n",
    "        Note #2: You can binarize the counts if you wish to\n",
    "        Input: \n",
    "            query - a (unprocessed) query\n",
    "            index_set - the index to use\n",
    "        Output: a list of (document_id, score), sorted in descending relevance to the given query \n",
    "    \"\"\"\n",
    "    \n",
    "    index = get_index(index_set)    \n",
    "    query = preprocess_query(query, index_set)\n",
    "\n",
    "    # get query_terms and counts\n",
    "    query_terms, query_counts = np.unique(query, return_counts=True)\n",
    "        \n",
    "    # init empty vectors\n",
    "    vectors = defaultdict(lambda:[0] * len(query_counts))\n",
    "    \n",
    "    # init scores dict\n",
    "    scores = {}\n",
    "    \n",
    "    # loop over query terms\n",
    "    for i, term in enumerate(query_terms):\n",
    "        for doc_id, c in index[term]:\n",
    "            # set vector entry to term frequency in document\n",
    "            vectors[doc_id][i] = c * query_counts[i]\n",
    "    \n",
    "    # calculate cos similarity\n",
    "    for doc_id in vectors.keys():\n",
    "        scores[doc_id] = np.dot(vectors[doc_id], query_counts) / (np.linalg.norm(vectors[doc_id])*np.linalg.norm(query_counts))\n",
    "    \n",
    "    # set doc scores for docs without query terms to 0 \n",
    "    for doc_id, _ in docs:\n",
    "        if doc_id not in scores.keys():\n",
    "            scores[doc_id] = 0\n",
    "    \n",
    "    # back to list and sort\n",
    "    scores = [(k,v) for k,v in scores.items()]\n",
    "    scores = sorted(scores, key = lambda x: x[1], reverse=True)\n",
    "    \n",
    "    return scores"
   ]
  },
  {
   "cell_type": "markdown",
   "metadata": {},
   "source": [
    "*Answer the following questions*: \n",
    "- The BOW model is might not be a good choice for use in IR. Why? \n",
    "    - BOW assumes independence between words, and also neglects word order. However, word order might have a significant effect on the meaning and intent of the query, and we might lose information if we disregard the word order."
   ]
  },
  {
   "cell_type": "code",
   "execution_count": 22,
   "metadata": {},
   "outputs": [
    {
     "name": "stdout",
     "output_type": "stream",
     "text": [
      "BOW Results:\n",
      "Rank 0(1.0): ALGOL Sub-Committee Report - Extensions...\n",
      "Rank 1(1.0): The Use of Computers in Engineering Classroom Inst...\n",
      "Rank 2(1.0): Report on a Conference of University Computing Cen...\n",
      "Rank 3(1.0): Report on the Algorithmic Language ALGOL 60...\n",
      "Rank 4(1.0): SMALGOL-61\\nPrior to and during the 1961 Western J...\n",
      "CPU times: user 9.24 ms, sys: 2.88 ms, total: 12.1 ms\n",
      "Wall time: 10.9 ms\n"
     ]
    }
   ],
   "source": [
    "%%time\n",
    "####\n",
    "docs_by_id = dict(docs)\n",
    "def print_results(docs, len_limit=50):    \n",
    "    for i, (doc_id, score) in enumerate(docs):\n",
    "        doc_content = docs_by_id[doc_id].strip().replace(\"\\n\", \"\\\\n\")[:len_limit] + \"...\"\n",
    "        print(f\"Rank {i}({score:.2}): {doc_content}\")\n",
    "\n",
    "test_bow = bow_search(\"report\", index_set=1)[:5]\n",
    "print(f\"BOW Results:\")\n",
    "print_results(test_bow)\n",
    "#### "
   ]
  },
  {
   "cell_type": "markdown",
   "metadata": {},
   "source": [
    "Before we implement the tf-idf scoring functions, let's first write a function to compute the document frequencies of all words.  "
   ]
  },
  {
   "cell_type": "code",
   "execution_count": 23,
   "metadata": {},
   "outputs": [],
   "source": [
    "# TODO: Implement this! (5 points)\n",
    "def compute_df(documents):\n",
    "    \"\"\"\n",
    "        Compute the document frequency of all terms in the vocabulary\n",
    "        Input: A list of documents\n",
    "        Output: A dictionary with {token: document frequency)\n",
    "    \"\"\"\n",
    "    \n",
    "    doc_freq = defaultdict(int)\n",
    "    \n",
    "    for document in documents:\n",
    "        for token in set(document):\n",
    "            doc_freq[token] += 1\n",
    "\n",
    "    return doc_freq\n",
    "            \n",
    "            \n",
    "        \n",
    "# get the document frequencies of each document\n",
    "df_1 = compute_df([d[1] for d in doc_repr_1])\n",
    "df_2 = compute_df([d[1] for d in doc_repr_2])\n",
    "\n",
    "def get_df(index_set):\n",
    "    assert index_set in {1, 2}\n",
    "    return {\n",
    "        1: df_1,\n",
    "        2: df_2\n",
    "    }[index_set]"
   ]
  },
  {
   "cell_type": "markdown",
   "metadata": {},
   "source": [
    "Next, implement a function that computes a tf-idf score given a query.      "
   ]
  },
  {
   "cell_type": "code",
   "execution_count": 24,
   "metadata": {},
   "outputs": [],
   "source": [
    "# TODO: Implement this! 10 points\n",
    "def tfidf_search(query, index_set):\n",
    "    \"\"\"\n",
    "        Perform a search over all documents with the given query using tf-idf. \n",
    "        Note #1: You have to use the `get_index` (and the `get_df`) function created in the previous cells\n",
    "        Input: \n",
    "            query - a (unprocessed) query\n",
    "            index_set - the index to use\n",
    "        Output: a list of (document_id, score), sorted in descending relevance to the given query \n",
    "    \"\"\"\n",
    "    index = get_index(index_set)\n",
    "    df = get_df(index_set)\n",
    "    query = preprocess_query(query, index_set)\n",
    "    N = len(docs)\n",
    "    \n",
    "    # get query terms and their counts \n",
    "    query_terms, query_counts = np.unique(query, return_counts=True)\n",
    "    \n",
    "    # define empty vectors\n",
    "    vectors = defaultdict(lambda:[0] * len(query_counts))\n",
    "    \n",
    "    #init score dict\n",
    "    scores = {}\n",
    "\n",
    "    # calculate the query vector\n",
    "    query_vector = [c * np.log(N/df[term]) if df[term] != 0 else 0 for c, term in zip(query_counts, query_terms)]\n",
    "    \n",
    "    # loop over query terms and docs in inverted index\n",
    "    for i, term in enumerate(query_terms):\n",
    "        for doc_id, c in index[term]:\n",
    "            # if term does not occur in doc, vector entry is 0\n",
    "            if df[term] == 0:\n",
    "                vectors[doc_id][i] = 0\n",
    "            # else, vector entry is tf-idf\n",
    "            else:\n",
    "                vectors[doc_id][i] = c * query_counts[i] * np.log(N/df[term])\n",
    "    \n",
    "    # for each doc vector calculate cos similarity with query vector\n",
    "    for doc_id in vectors.keys():\n",
    "        scores[doc_id] = np.dot(vectors[doc_id], query_vector) / (np.linalg.norm(vectors[doc_id]) * np.linalg.norm(query_vector))\n",
    "    \n",
    "    # if doc does not contain query terms, set score to 0 \n",
    "    for doc_id, _ in docs:\n",
    "        if doc_id not in scores.keys():\n",
    "            scores[doc_id] = 0\n",
    "    \n",
    "    # back to list and sort\n",
    "    scores = [(k,v) for k,v in scores.items()]\n",
    "    scores = sorted(scores, key = lambda x: x[1], reverse=True)\n",
    "\n",
    "    return scores"
   ]
  },
  {
   "cell_type": "code",
   "execution_count": 25,
   "metadata": {},
   "outputs": [
    {
     "name": "stdout",
     "output_type": "stream",
     "text": [
      "TFIDF Results:\n",
      "Rank 0(1.0): The State of Computer Oriented Curricula in Busine...\n",
      "Rank 1(1.0): The Technology of Computer Center Management: A\\nM...\n",
      "Rank 2(0.98): Rejuvenating Experimental Computer Science\\nThis r...\n",
      "Rank 3(0.95): Computational Linguistics in a Ph.D. Computer Scie...\n",
      "Rank 4(0.9): Information Science in a Ph.D. Computer Science Pr...\n"
     ]
    }
   ],
   "source": [
    "####\n",
    "test_tfidf = tfidf_search(\"report science\", index_set=1)[:5]\n",
    "print(f\"TFIDF Results:\")\n",
    "print_results(test_tfidf)\n",
    "####"
   ]
  },
  {
   "cell_type": "markdown",
   "metadata": {},
   "source": [
    "*Answer the following questions*: \n",
    "- It is generally not advisable to use the naive version of tf-idf. Why?\n",
    "    - *TODO: Answer this!*\n",
    "    - The naive version of tf-idf does not take into account the document length, which might become problematic if some of the documents become very long (e.g. books), since the query terms are more likely to appear more often in those long documents. Furthermore, if the query term does not occur in any of the documents, we encounter divisions by 0.  \n",
    "- Illustrate with an example why using a sublinear scaling for TF is preferable in some cases.  \n",
    "    - *TODO: Answer this!*\n",
    "    - Intuitively, we can explain this by the fact that the 100th occurence of a term in a document is not as significant as the first or second time. In other words, by using a sublinear scaling we decrease the marginal significance of term occurences when the frequency increases."
   ]
  },
  {
   "cell_type": "markdown",
   "metadata": {},
   "source": [
    "--- \n",
    "\n",
    "*Answer the following questions*: \n",
    "- An alternative way to compute a query<>document score is to vectorize both the query and document (where each dimension corresponds to a token), and compute a score. The score can be computed using a dot product between the query and the document vectors. Why is the cosine similary function a better choice, particularly in IR? \n",
    "    - **Answer**\n",
    "    - The cosine similarity is preferred over the dot product, as the cosine similarity is normalized. In other words, the cosine similarity only cares about the angle of difference between the vectors, whereas the dot product also cares about the magnitude. \n",
    "- What is the time complexity of a search if we are using the vector space method mentioned in the previous question? What is the time complexity if we're using an index (assume that it fits in memory)? Assume $N$ is the number of documents and $|q|$ is the length of a query. \n",
    "    - **Answer**\n",
    "    - Dot product algorithm: vectors A and B have length $|q|$, we multiply each $a_i$ and $b_i$, resulting in $|q|$ multiplications. Moreover, we add sum over all the previously computed products $a_i b_i$, which requires another $|q| - 1$ steps. In total, this would result in a time complexity of $O(|q|) + O(|q|) = O(|q|)$ per documents, with N documents: $N O(|q|) = O(N|q|)$. "
   ]
  },
  {
   "cell_type": "markdown",
   "metadata": {},
   "source": [
    "--- \n",
    "\n",
    "#### Query Likelihood Models\n",
    "\n",
    "In this section you will implement a simple query likelihood model. \n",
    "\n",
    "First, let use implement a naive version of a QL model, assuming a multinomial unigram language model (with a uniform prior over the documents). \n",
    "\n",
    "**Note:** Make sure you use the `get_index` function to retrieve the correct index, and call `preprocess_query` with the correct index!\n",
    "\n",
    "--- \n",
    "\n",
    "*Answer the following questions*: \n",
    "- Write down the formula for computing the query likelihood, assuming a multinomial unigram language model. \n",
    "    -     $p(d|q) = p(q|d)p(d)/p(q)$\n",
    "    \n",
    "    $p(q)$ is constant and $p(d)$ is assumed to be uniform. \n",
    "    \n",
    "    Hence: $p(d|q) = p(q|d) = \\prod_{i=1}^{|q|}p(t_{i}|d) = \\prod_{i=1}^{|q|} \\frac{c(t_{i},d)}{dl(d)}$\n",
    " \n",
    " \n",
    "- What problem does this naive method have? Suggest a simple way to fix it.\n",
    "    - The problem with this naive method is that the likelihood of a document will be 0 if one of the terms does not appear in the document. So, if $c(t_{i},d) = 0$, $p(d|q) = p(q|d) = 0$, whereas other words in the query might appear and a score of 0 would thus be inaccurate. A simple way to fix this is by implementing a smoothing method. The code below implements the Jelinek-Mercer smoothing method. This  method allows interpolation between document frequency and collection frequency. So instead of fully relying on the frequency of a term in a document, we also take into account how often the term occurs in the collection of documents. The hyperparameters $\\alpha$ decides the weight assigned to both frequencies. "
   ]
  },
  {
   "cell_type": "code",
   "execution_count": 26,
   "metadata": {},
   "outputs": [],
   "source": [
    "####\n",
    "def doc_lengths(documents):\n",
    "    doc_lengths = {doc_id:len(doc) for (doc_id, doc) in documents}\n",
    "    return doc_lengths\n",
    "\n",
    "doc_lengths_1 = doc_lengths(doc_repr_1)\n",
    "doc_lengths_2 = doc_lengths(doc_repr_2)\n",
    "\n",
    "def get_doc_lengths(index_set):\n",
    "    assert index_set in {1, 2}\n",
    "    return {\n",
    "        1: doc_lengths_1,\n",
    "        2: doc_lengths_2\n",
    "    }[index_set]\n",
    "####"
   ]
  },
  {
   "cell_type": "code",
   "execution_count": 27,
   "metadata": {},
   "outputs": [],
   "source": [
    "\n",
    "# TODO: Implement this! 15 points\n",
    "def naive_ql_search(query, index_set):\n",
    "    \"\"\"\n",
    "        Perform a search over all documents with the given query using a naive QL model. \n",
    "        Note #1: You have to use the `get_index` (and get_doc_lengths) function created in the previous cells\n",
    "        Input: \n",
    "            query - a (unprocessed) query\n",
    "            index_set - the index to use\n",
    "        Output: a list of (document_id, score), sorted in descending relevance to the given query \n",
    "    \"\"\"\n",
    "    \n",
    "    index = get_index(index_set)\n",
    "    doc_len = get_doc_lengths(index_set)\n",
    "    query = preprocess_query(query, index_set)\n",
    "    \n",
    "    # get query counts and terms to calculate KL divergence\n",
    "    query_terms, query_counts = np.unique(query, return_counts=True)\n",
    "    query_len = sum(query_counts)\n",
    "    epsilon = 1e-8\n",
    "    \n",
    "    # scores start at 0 \n",
    "    scores = defaultdict(lambda:0)\n",
    "    \n",
    "    # loop over query terms \n",
    "    for i, term in enumerate(query_terms):\n",
    "        # compute the likelihood of the term given the query\n",
    "        term_llh_query = query_counts[i] / query_len\n",
    "        for doc_id, c in index[term]:\n",
    "            # compute the likelihood of the term given the doc\n",
    "            term_llh_doc = c / doc_len[doc_id]\n",
    "            # calculate the part of KL Divergence for this term in query and this doc, sum over terms\n",
    "            scores[doc_id] += term_llh_query * np.log(term_llh_query / term_llh_doc)\n",
    "    \n",
    "    # inverse KL divergence, epsilon to avoid division by 0\n",
    "    for doc_id in scores.keys():\n",
    "        scores[doc_id] = 1 / (scores[doc_id] + epsilon)\n",
    "    \n",
    "    # for each document that did not have any of the query terms, set score to 0\n",
    "    for doc_id, _ in docs:\n",
    "        if doc_id not in scores.keys():\n",
    "            scores[doc_id] = float(0)\n",
    "    \n",
    "    # back to list and sort\n",
    "    scores = [(k,v) for k,v in scores.items()]\n",
    "    scores = sorted(scores, key = lambda x: x[1], reverse=True)\n",
    "            \n",
    "    return scores"
   ]
  },
  {
   "cell_type": "code",
   "execution_count": 28,
   "metadata": {},
   "outputs": [
    {
     "name": "stdout",
     "output_type": "stream",
     "text": [
      "TFIDF Results:\n",
      "Rank 0(0.62): ALGOL Sub-Committee Report - Extensions...\n",
      "Rank 1(0.62): A Report Writer For COBOL...\n",
      "Rank 2(0.62): A CRT Report Generating System...\n",
      "Rank 3(0.56): Supplement to the ALGOL 60 Report...\n",
      "Rank 4(0.51): Report on the Algorithmic Language ALGOL 60...\n"
     ]
    }
   ],
   "source": [
    "####\n",
    "test_naiveql = naive_ql_search(\"report\", index_set=1)[:5]\n",
    "print(f\"TFIDF Results:\")\n",
    "print_results(test_naiveql)\n",
    "####"
   ]
  },
  {
   "cell_type": "markdown",
   "metadata": {},
   "source": [
    "Now, let's implement a (slightly more) complex QL model. This model should 'fix' the issue with the previous method. If your model requires hyperparameters, set a reasonable value. "
   ]
  },
  {
   "cell_type": "code",
   "execution_count": 29,
   "metadata": {},
   "outputs": [],
   "source": [
    "# TODO: Implement this! 20 points\n",
    "def ql_search(query, index_set):\n",
    "    \"\"\"\n",
    "        Perform a search over all documents with the given query using a appropriate QL model. \n",
    "        Note #1: You have to use the `get_index` (and get_doc_lengths) function created in the previous cells\n",
    "        Note #2: You might have to create some variables beforehand and use them in this function\n",
    "        Input: \n",
    "            query - a (unprocessed) query\n",
    "            index_set - the index to use\n",
    "        Output: a list of (document_id, score), sorted in descending relevance to the given query \n",
    "    \"\"\"\n",
    "    index = get_index(index_set)\n",
    "    doc_len = get_doc_lengths(index_set)\n",
    "    query = preprocess_query(query, index_set)\n",
    "    \n",
    "    # total number of terms in collection for smoothing\n",
    "    C = sum(doc_len.values())\n",
    "    \n",
    "    # get query counts and terms to calculate KL divergence\n",
    "    query_terms, query_counts = np.unique(query, return_counts=True)\n",
    "    query_len = sum(query_counts)\n",
    "    epsilon = 1e-8\n",
    "    \n",
    "    # scores start at 0\n",
    "    scores = defaultdict(lambda:0)\n",
    "\n",
    "    freq_dict = dict()\n",
    "    for i, term in enumerate(query_terms):\n",
    "        # calculate collection frequency of term for smoothing\n",
    "        freq_dict[term] = sum([c for i,c in index[term]])\n",
    "        # compute term likelihood given the query\n",
    "        term_llh_query = query_counts[i] / query_len\n",
    "        for doc_id, c in index[term]:\n",
    "            # calculate p(t|d) with Jelinek Mercer smoothing (interpolation)\n",
    "            ptd = alpha * c / doc_len[doc_id] + (1 - alpha) * freq_dict[term] / C\n",
    "            # calculate the part of KL Divergence for this term in query and this doc, sum over terms\n",
    "            scores[doc_id] += term_llh_query * np.log(term_llh_query / ptd)\n",
    "\n",
    "    # Inverse KL divergence for ranking, add epsilon to avoid division by 0\n",
    "    for doc_id in scores.keys():\n",
    "        scores[doc_id] = 1 / (scores[doc_id] + epsilon)\n",
    "    \n",
    "    # set score to 0 for each doc without any query terms\n",
    "    for doc_id, _ in docs:\n",
    "        if doc_id not in scores.keys():\n",
    "            scores[doc_id] = float(0)\n",
    "    \n",
    "    # back to list and sort\n",
    "    scores = [(k,v) for k,v in scores.items()]\n",
    "    scores = sorted(scores, key = lambda x: x[1], reverse=True)\n",
    "            \n",
    "    return scores"
   ]
  },
  {
   "cell_type": "code",
   "execution_count": 30,
   "metadata": {},
   "outputs": [
    {
     "name": "stdout",
     "output_type": "stream",
     "text": [
      "Rank 0(0.51): ALGOL Sub-Committee Report - Extensions...\n",
      "Rank 1(0.51): A Report Writer For COBOL...\n",
      "Rank 2(0.51): A CRT Report Generating System...\n",
      "Rank 3(0.47): Supplement to the ALGOL 60 Report...\n",
      "Rank 4(0.43): Report on the Algorithmic Language ALGOL 60...\n",
      "\n",
      "Rank 0(0.51): ALGOL Sub-Committee Report - Extensions...\n",
      "Rank 1(0.51): A Report Writer For COBOL...\n",
      "Rank 2(0.51): A CRT Report Generating System...\n",
      "Rank 3(0.47): Supplement to the ALGOL 60 Report...\n",
      "Rank 4(0.43): Report on the Algorithmic Language ALGOL 60...\n"
     ]
    }
   ],
   "source": [
    "#### Test the QL model\n",
    "alpha = 0.7\n",
    "test_ql_results = ql_search(\"report\", index_set=1)[:5]\n",
    "print_results(test_ql_results)\n",
    "print()\n",
    "test_ql_results_long = ql_search(\"report \" * 10, index_set=1)[:5]\n",
    "print_results(test_ql_results_long)\n",
    "####"
   ]
  },
  {
   "cell_type": "markdown",
   "metadata": {},
   "source": [
    "*Answer the following questions*: \n",
    "- What happens to the query likelihood for long queries? What is a simple fix for this issue?\n",
    "    - *TODO: Answer this!*\n",
    "    - If the query becomes very long, the likelihood of the query diminishes. What happens then if looking at the formaula?"
   ]
  },
  {
   "cell_type": "markdown",
   "metadata": {},
   "source": [
    "\n",
    "--- \n",
    "\n",
    "#### BM25\n",
    "\n",
    "In this section, we will implement the widely used and hard to beat BM25 scoring function. \n"
   ]
  },
  {
   "cell_type": "code",
   "execution_count": 31,
   "metadata": {},
   "outputs": [],
   "source": [
    "# TODO: Implement this! (20 points)\n",
    "k1 = 1.2\n",
    "b = 0.75\n",
    "N = len(docs)\n",
    "\n",
    "\n",
    "def bm25_search(query, index_set):\n",
    "    \"\"\"\n",
    "        Perform a search over all documents with the given query using BM25. \n",
    "        Note #1: You have to use the `get_index` (and `get_doc_lengths`) function created in the previous cells\n",
    "        Note #2: You might have to create some variables beforehand and use them in this function\n",
    "        Input: \n",
    "            query - a (unprocessed) query\n",
    "            index_set - the index to use\n",
    "        Output: a list of (document_id, score), sorted in descending relevance to the given query \n",
    "    \"\"\"\n",
    "    # retrieve index and doc lengths \n",
    "    index = get_index(index_set)\n",
    "    doc_lengths = get_doc_lengths(index_set)\n",
    "    dl_avg = np.mean(list(doc_lengths.values()))\n",
    "    \n",
    "    # preprocess the query\n",
    "    query = preprocess_query(query, index_set)\n",
    "    \n",
    "    # init score dict\n",
    "    scores = {}\n",
    "    \n",
    "    # get document frequencies\n",
    "    df = get_df(index_set)\n",
    "    \n",
    "    # initialize all scores at 0\n",
    "    for doc_id, _ in docs:\n",
    "        if doc_id not in scores.keys():\n",
    "            scores[doc_id] = 0\n",
    "    \n",
    "    freq_dict = dict()\n",
    "    \n",
    "    # find relevant documents by scanning the index on the terms in the query\n",
    "    for term in query:\n",
    "        # frequency of term in whole collection.\n",
    "        freq_dict[term] = sum([c for i,c in index[term]])\n",
    "        # for all the docs in which the term occurs, compute the score. \n",
    "        for doc_id, c in index[term]:\n",
    "            dl = doc_lengths[doc_id]\n",
    "            # compute score according to BM25 formula.\n",
    "            scores[doc_id] += np.log(N/df[term]) * (((k1 + 1) * c) /\n",
    "                                                    (k1 * ((1-b) + b * (dl/dl_avg)) + c))\n",
    "    # back to list and sort\n",
    "    scores = [(k,v) for k,v in scores.items()]\n",
    "    ranking = sorted(scores, key = lambda x: x[1], reverse=True)\n",
    "     \n",
    "    return ranking # this is a list of tuples, ranked on relevance (doc_id, score)"
   ]
  },
  {
   "cell_type": "code",
   "execution_count": 32,
   "metadata": {},
   "outputs": [],
   "source": [
    "# TODO: Implement this! (20 points)\n",
    "k1 = 1.2\n",
    "b = 0.75\n",
    "N = len(docs)\n",
    "\n",
    "\n",
    "def bm25_search(query, index_set):\n",
    "    \"\"\"\n",
    "        Perform a search over all documents with the given query using BM25. \n",
    "        Note #1: You have to use the `get_index` (and `get_doc_lengths`) function created in the previous cells\n",
    "        Note #2: You might have to create some variables beforehand and use them in this function\n",
    "        Input: \n",
    "            query - a (unprocessed) query\n",
    "            index_set - the index to use\n",
    "        Output: a list of (document_id, score), sorted in descending relevance to the given query \n",
    "    \"\"\"\n",
    "        \n",
    "    index = get_index(index_set)\n",
    "    doc_lengths = get_doc_lengths(index_set)\n",
    "    \n",
    "    query = preprocess_query(query, index_set)\n",
    "    dl_avg = np.mean(list(doc_lengths.values()))\n",
    "    \n",
    "    scores = defaultdict(int)\n",
    "    df = get_df(index_set)\n",
    "    \n",
    "    freq_dict = dict()\n",
    "    \n",
    "    for term in query:\n",
    "#         freq_dict[term] = sum([c for i,c in index[term]]) # collection frequency\n",
    "        for doc_id, c in index[term]:\n",
    "            dl = doc_lengths[doc_id]\n",
    "            scores[doc_id] += np.log(N/df[term]) * (((k1 + 1) * c) /\n",
    "                                                    (k1 * ((1-b) + b * (dl/dl_avg)) + c))      \n",
    "    \n",
    "    # back to list and sort\n",
    "    scores = [(k,v) for k,v in scores.items()]\n",
    "    ranking = sorted(scores, key = lambda x: x[1], reverse=True)\n",
    "     \n",
    "    return ranking # this is a list of tuples, ranked on relevance (doc_id, score)"
   ]
  },
  {
   "cell_type": "code",
   "execution_count": 33,
   "metadata": {},
   "outputs": [
    {
     "name": "stdout",
     "output_type": "stream",
     "text": [
      "Rank 0(7.1): Value Orientation of Computer Science Students\\nTe...\n",
      "Rank 1(7.1): A University's Educational Program in Computer Sci...\n",
      "Rank 2(7.0): A Survey of Computer Science Offerings In Small Li...\n",
      "Rank 3(6.7): Information Science in a Ph.D. Computer Science Pr...\n",
      "Rank 4(6.6): The Practical Aspect of Computer Science Education...\n"
     ]
    }
   ],
   "source": [
    "#### Test the BM25 model\n",
    "test_bm25_results = bm25_search(\"science\", index_set=1)[:5]\n",
    "print_results(test_bm25_results)\n",
    "####"
   ]
  },
  {
   "cell_type": "markdown",
   "metadata": {},
   "source": [
    "\n",
    "\n",
    "*Answer the following questions*: \n",
    "- Briefly explain how the BM25 model improves upon the tf-idf model.\n",
    "    - *TODO: Answer this!*\n",
    "    - The BM25 model takes into account the relative document length and compensates for that (shorter documents are as likely to be relevant than long documents. \n",
    "    \n",
    "---"
   ]
  },
  {
   "cell_type": "code",
   "execution_count": 34,
   "metadata": {},
   "outputs": [],
   "source": [
    "#### Highlighter function\n",
    "# class for results\n",
    "ResultRow = namedtuple(\"ResultRow\", [\"doc_id\", \"snippet\", \"score\"])\n",
    "# doc_id -> doc\n",
    "docs_by_id = dict((d[0], d[1]) for d in docs)\n",
    "\n",
    "def highlight_text(document, query, tol=17):\n",
    "    import re\n",
    "    tokens = tokenize(query)\n",
    "    regex = \"|\".join(f\"(\\\\b{t}\\\\b)\" for t in tokens)\n",
    "    regex = re.compile(regex, flags=re.IGNORECASE)\n",
    "    output = \"\"\n",
    "    i = 0\n",
    "    for m in regex.finditer(document):\n",
    "        start_idx = max(0, m.start() - tol)\n",
    "        end_idx = min(len(document), m.end() + tol)\n",
    "        output += \"\".join([\"...\",\n",
    "                        document[start_idx:m.start()],\n",
    "                        \"<strong>\",\n",
    "                        document[m.start():m.end()],\n",
    "                        \"</strong>\",\n",
    "                        document[m.end():end_idx],\n",
    "                        \"...\"])\n",
    "    return output.replace(\"\\n\", \" \")\n",
    "\n",
    "\n",
    "def make_results(query, search_fn, index_set):\n",
    "    results = []\n",
    "    for doc_id, score in search_fn(query, index_set):\n",
    "        highlight = highlight_text(docs_by_id[doc_id], query)\n",
    "        if len(highlight.strip()) == 0:\n",
    "            highlight = docs_by_id[doc_id]\n",
    "        results.append(ResultRow(doc_id, highlight, score))\n",
    "    return results\n",
    "####"
   ]
  },
  {
   "cell_type": "markdown",
   "metadata": {},
   "source": [
    "---\n",
    "---\n",
    "\n",
    "The widget below allows you to play with the search functions you've written so far. This can be used, for example, to answer some of the theory questions"
   ]
  },
  {
   "cell_type": "code",
   "execution_count": 35,
   "metadata": {},
   "outputs": [
    {
     "data": {
      "application/vnd.jupyter.widget-view+json": {
       "model_id": "935cdf1af7034fdd8447d85574d9fe28",
       "version_major": 2,
       "version_minor": 0
      },
      "text/plain": [
       "Text(value='', description='Search Bar')"
      ]
     },
     "metadata": {},
     "output_type": "display_data"
    }
   ],
   "source": [
    "# Set this to the function you want to test\n",
    "# this function should take in a query (string)\n",
    "# and return a sorted list of (doc_id, score) \n",
    "# with the most relevant document in the first position\n",
    "search_fn = bm25_search\n",
    "index_set = 1\n",
    "\n",
    "text = widgets.Text(description=\"Search Bar\", width=200)\n",
    "display(text)\n",
    "\n",
    "def handle_submit(sender):\n",
    "    print(f\"Searching for: '{sender.value}'\")\n",
    "    \n",
    "    results = make_results(sender.value, search_fn, index_set)\n",
    "    \n",
    "    # display only the top 5\n",
    "    results = results[:5]\n",
    "    \n",
    "    body = \"\"\n",
    "    for idx, r in enumerate(results):\n",
    "        body += f\"<li>Document #{r.doc_id}({r.score}): {r.snippet}</li>\"\n",
    "    display(HTML(f\"<ul>{body}</ul>\"))\n",
    "    \n",
    "\n",
    "text.on_submit(handle_submit)"
   ]
  },
  {
   "cell_type": "markdown",
   "metadata": {},
   "source": [
    "## Section 4: Offline Evaluation (45 points)\n",
    "\n",
    "Before we jump in and implement an algorithm for retrieval, we first have to learn how to evaluate such a system. In particular, we will work with offline evaluation metrics. These metrics are computed on a dataset with known relevance judgements.\n",
    "\n",
    "Implement the following evaluation metrics. \n",
    "\n",
    "1. Precision\n",
    "2. Recall\n",
    "3. Mean Average Precision\n",
    "4. Expected Reciprocal Rank\n",
    "\n",
    "---\n",
    "*Answer the following questions*: \n",
    "- What are the main limitations of an offline evaluation?\n",
    "    - *TODO: Answer this!*\n",
    "    - Creating a test collection is very labour intensive, as we need to (practically) guarantee that everything the algorithm might come up with in the ranking is labeled in terms of relevance. This labeling should be done by humans and is therefore costly."
   ]
  },
  {
   "cell_type": "markdown",
   "metadata": {},
   "source": [
    "---\n",
    "\n",
    "Let's take a look at the `qrels.text` file, which contains the ground truth relevance scores. The relevance labels for CACM are binary - either 0 or 1. \n"
   ]
  },
  {
   "cell_type": "code",
   "execution_count": 36,
   "metadata": {},
   "outputs": [
    {
     "name": "stdout",
     "output_type": "stream",
     "text": [
      "01 1410  0 0\r\n",
      "01 1572  0 0\r\n",
      "01 1605  0 0\r\n",
      "01 2020  0 0\r\n",
      "01 2358  0 0\r\n",
      "02 2434  0 0\r\n",
      "02 2863  0 0\r\n",
      "02 3078  0 0\r\n",
      "03 1134  0 0\r\n",
      "03 1613  0 0\r\n"
     ]
    }
   ],
   "source": [
    "!head ./datasets/qrels.text"
   ]
  },
  {
   "cell_type": "markdown",
   "metadata": {},
   "source": [
    "The first column is the `query_id` and the second column is the `document_id`. You can safely ignore the 3rd and 4th columns. Write a function to read in the file: "
   ]
  },
  {
   "cell_type": "code",
   "execution_count": 37,
   "metadata": {},
   "outputs": [],
   "source": [
    "# TODO: Implement this!\n",
    "def read_qrels(root_folder = \"./datasets/\"):\n",
    "    \"\"\"\n",
    "        Reads the qrels.text file. \n",
    "        Output: A dictionary: query_id -> [list of relevant documents]\n",
    "    \"\"\"\n",
    "    output = {}\n",
    "    filepath = os.path.join(root_folder, 'qrels.text')\n",
    "    \n",
    "    with open(filepath, 'r') as f:\n",
    "        lines = f.read().splitlines()\n",
    "\n",
    "    for line in lines:\n",
    "        query_id, doc_id, _, _ = line.split()\n",
    "\n",
    "        query_id = int(query_id)\n",
    "        doc_id = int(doc_id)\n",
    "\n",
    "        if query_id not in output:    \n",
    "            output[query_id] = [doc_id]\n",
    "        else:\n",
    "            output[query_id].append(doc_id)\n",
    "            \n",
    "    return output\n",
    "    \n",
    "\n",
    "qrels = read_qrels()"
   ]
  },
  {
   "cell_type": "code",
   "execution_count": 38,
   "metadata": {},
   "outputs": [],
   "source": [
    "####\n",
    "assert len(qrels) == 52, \"There should be 52 queries with relevance judgements\"\n",
    "assert sum(len(j) for j in qrels.values()) == 796, \"There should be a total of 796 Relevance Judgements\"\n",
    "####"
   ]
  },
  {
   "cell_type": "markdown",
   "metadata": {},
   "source": [
    "Now, implement the metrics below. \n",
    "\n",
    "**Note:** For a given query `query_id`, you can assume that documents *not* in `qrels[query_id]` are not relevant to `query_id`. \n"
   ]
  },
  {
   "cell_type": "code",
   "execution_count": 39,
   "metadata": {},
   "outputs": [],
   "source": [
    "# TODO: Implement this! (10 points)\n",
    "def recall_k(results, relevant_docs, k):\n",
    "    \"\"\"\n",
    "        Compute Recall@K\n",
    "        Input: \n",
    "            results: A sorted list of 2-tuples (document_id, score), with the most relevant document in the first position\n",
    "            relevant_docs: A set of relevant documents. \n",
    "            k: the cut-off\n",
    "        Output: Recall@K\n",
    "    \"\"\"\n",
    "    pred_doc_ids = [doc_id for doc_id, _ in results[:k]]\n",
    "    correct = len(set(relevant_docs) & set(pred_doc_ids))\n",
    "    \n",
    "    return correct/len(relevant_docs)\n",
    "    \n",
    "    \n",
    "    \n",
    "# TODO: Implement this! (10 points)\n",
    "def precision_k(results, relevant_docs, k):\n",
    "    \"\"\"\n",
    "        Compute Precision@K\n",
    "        Input: \n",
    "            results: A sorted list of 2-tuples (document_id, score), \n",
    "                    with the most relevant document in the first position\n",
    "            relevant_docs: A set of relevant documents. \n",
    "            k: the cut-off\n",
    "        Output: Precision@K\n",
    "    \"\"\"\n",
    "    \n",
    "    pred_doc_ids = [doc_id for doc_id, _ in results[:k]]\n",
    "    correct = len(set(relevant_docs) & set(pred_doc_ids))\n",
    "    \n",
    "    return correct / k\n",
    "    \n",
    "    \n",
    "\n",
    "# TODO: Implement this! (10 points)\n",
    "def average_precision(results, relevant_docs):\n",
    "    \"\"\"\n",
    "        Compute Average Precision (for a single query - the results are \n",
    "        averaged across queries to get MAP in the next few cells)\n",
    "        Hint: You can use the recall_k and precision_k functions here!\n",
    "        Input: \n",
    "            results: A sorted list of 2-tuples (document_id, score), with the most \n",
    "                    relevant document in the first position\n",
    "            relevant_docs: A set of relevant documents. \n",
    "        Output: Average Precision\n",
    "    \"\"\"\n",
    "    \n",
    "    ap = 0\n",
    "    \n",
    "    for i, (doc_id, _) in enumerate(results):\n",
    "        if doc_id in relevant_docs:\n",
    "            ap += precision_k(results, relevant_docs, i+1)\n",
    "            \n",
    "    return ap / len(relevant_docs)\n",
    "            \n",
    "\n",
    "\n",
    "# TODO: Implement this! (15 points)\n",
    "def err(results, relevant_docs):\n",
    "    \"\"\"\n",
    "        Compute the expected reciprocal rank.\n",
    "        Hint: https://dl.acm.org/doi/pdf/10.1145/1645953.1646033?download=true\n",
    "        Input: \n",
    "            results: A sorted list of 2-tuples (document_id, score), with the most \n",
    "                    relevant document in the first position\n",
    "            relevant_docs: A set of relevant documents. \n",
    "        Output: ERR\n",
    "        \n",
    "    \"\"\"\n",
    "    # g is a boolean array indicating relevance\n",
    "    g = np.array([doc_id in relevant_docs for doc_id, _ in results], dtype=int)\n",
    "    R_g = (np.power(2, g)-1) / np.power(2, g.max())\n",
    "    n = len(results)\n",
    "    prod = np.cumprod(1-R_g)\n",
    "    prod = np.insert(prod, 0, 1)[:-1]\n",
    "    err = 1 / np.arange(1, n+1) * prod * R_g\n",
    "    return err.sum()\n",
    "####"
   ]
  },
  {
   "cell_type": "markdown",
   "metadata": {},
   "source": [
    "*Answer the following questions*: \n",
    "- What are the main drawbacks of precision & recall?\n",
    "    - *TODO: Answer this!*\n",
    "    - Usually there is trade-off between precision and recall: are false positives or false negatives preferred for the problem setting? Furthermore, the scores on precision and recall are meaningless without the fraction of relevant documents in the collection, i.e. if almost none of the documents is relevant, the algorithm can predict non-relevance for all the documents and have a high precision. The other way around where most of the documents are relevant, and the model predicts all the documents as relevant, it has a high recall and precision, but has no discriminative power whatsoever. The most important drawback for information retrieval is that precision and recall do not take into account the ranking of the documents in the ranking (both consider the complete ranking, but not the order). This problem is partly solved by Precision@k and Recall@k, but even those metrics do not take into account the order within the top $k$.\n",
    "- What problems with Precision@K does Average Precision solve? \n",
    "    - *TODO: Answer this!*\n",
    "    - Precision@$k$ still does not take into account the order of the documents within the top $k$ of the ranking. Average Precision does, by taking the average over all the relevant documents, thereby rewarding highly ranked relevant documents and penalizing the low ranked relevant documents (in the whole ranking). \n",
    "- The CACM dataset has *binary* relevance judgements. However, a more suitable way of assigning judgements is to use graded relevance. Mention a metric which might be more suitable for a graded relevance, and briefly explain why. \n",
    "    - *TODO: Answer this!*\n",
    "    - An example of a metric that uses graded relevance is Discounted Cumulative Gain (DCG). In DCG, the relevance is based on the gain of examing the document, which is a graded scale. The relevance is scaled by a discount term, which is positively correlated with the rank $r$ (where the top document in the ranking has rank $r=1$).\n",
    "- Consider a text processing step: stemming. What effect does this have on metrics? (Hint: Try changing the pre-processing config and try it out!)\n",
    "    - *TODO: Answer this!*\n",
    "    - When we compare stemmed vs. non-stemmed text (by changing the 2 configs (both lowercase=True, remove_stopword=False, one with stemming and one without) and running the notebook) we see that all the search functions get the same or higher scores on all metrics in case of stemming, proving that stemming indeed is beneficiary for the search process. "
   ]
  },
  {
   "cell_type": "markdown",
   "metadata": {},
   "source": [
    "---\n",
    "\n",
    "Let's define some metrics@k using [partial functions](https://docs.python.org/3/library/functools.html#functools.partial)"
   ]
  },
  {
   "cell_type": "code",
   "execution_count": 40,
   "metadata": {},
   "outputs": [],
   "source": [
    "####\n",
    "recall_at_1 = partial(recall_k, k=1)\n",
    "recall_at_5 = partial(recall_k, k=5)\n",
    "recall_at_10 = partial(recall_k, k=10)\n",
    "precision_at_1 = partial(precision_k, k=1)\n",
    "precision_at_5 = partial(precision_k, k=5)\n",
    "precision_at_10 = partial(precision_k, k=10)\n",
    "####"
   ]
  },
  {
   "cell_type": "markdown",
   "metadata": {},
   "source": [
    "---\n",
    "\n",
    "The following function evaluates a `search_fn` using the `metric_fn`. Note that the final number is averaged over all the queries"
   ]
  },
  {
   "cell_type": "code",
   "execution_count": 41,
   "metadata": {},
   "outputs": [],
   "source": [
    "####\n",
    "def evaluate_search_fn(search_fn, metric_fn, index_set):\n",
    "    # build a dict query_id -> query \n",
    "    queries_by_id = dict((q[0], q[1]) for q in queries)\n",
    "    \n",
    "    metrics = np.zeros(len(qrels), dtype=np.float32)\n",
    "    for i, (query_id, relevant_docs) in enumerate(qrels.items()):\n",
    "        query = queries_by_id[query_id]\n",
    "        results = search_fn(query, index_set)\n",
    "        metrics[i] = metric_fn(results, relevant_docs)\n",
    "    \n",
    "    return metrics.mean()\n",
    "####"
   ]
  },
  {
   "cell_type": "code",
   "execution_count": 42,
   "metadata": {},
   "outputs": [
    {
     "name": "stdout",
     "output_type": "stream",
     "text": [
      "Index: 1\n",
      "\tEvaluating Search Function: NaiveQL\n",
      "\t\tMetric: ERR: 0.014969581738114357\n",
      "\t\tMetric: MAP: 0.00882741529494524\n",
      "\t\tMetric: Recall@1: 0.0\n",
      "\t\tMetric: Recall@5: 0.0039143553003668785\n",
      "\t\tMetric: Recall@10: 0.0039143553003668785\n",
      "\t\tMetric: Precision@1: 0.0\n",
      "\t\tMetric: Precision@5: 0.011538461782038212\n",
      "\t\tMetric: Precision@10: 0.005769230891019106\n",
      "\n",
      "\tEvaluating Search Function: QL\n",
      "\t\tMetric: ERR: 0.014164397493004799\n",
      "\t\tMetric: MAP: 0.008394192904233932\n",
      "\t\tMetric: Recall@1: 0.0\n",
      "\t\tMetric: Recall@5: 0.004429464694112539\n",
      "\t\tMetric: Recall@10: 0.004429464694112539\n",
      "\t\tMetric: Precision@1: 0.0\n",
      "\t\tMetric: Precision@5: 0.011538461782038212\n",
      "\t\tMetric: Precision@10: 0.005769230891019106\n",
      "\n",
      "\tEvaluating Search Function: BM25\n",
      "\t\tMetric: ERR: 0.40404170751571655\n",
      "\t\tMetric: MAP: 0.23765285313129425\n",
      "\t\tMetric: Recall@1: 0.09718325734138489\n",
      "\t\tMetric: Recall@5: 0.22063495218753815\n",
      "\t\tMetric: Recall@10: 0.273042768239975\n",
      "\t\tMetric: Precision@1: 0.557692289352417\n",
      "\t\tMetric: Precision@5: 0.307692289352417\n",
      "\t\tMetric: Precision@10: 0.2230769544839859\n",
      "\n",
      "\tEvaluating Search Function: BOW\n",
      "\t\tMetric: ERR: 0.20937508344650269\n",
      "\t\tMetric: MAP: 0.09002292901277542\n",
      "\t\tMetric: Recall@1: 0.02086927741765976\n",
      "\t\tMetric: Recall@5: 0.08358566462993622\n",
      "\t\tMetric: Recall@10: 0.12322720140218735\n",
      "\t\tMetric: Precision@1: 0.21153846383094788\n",
      "\t\tMetric: Precision@5: 0.14999999105930328\n",
      "\t\tMetric: Precision@10: 0.12115384638309479\n",
      "\n",
      "\tEvaluating Search Function: TF-IDF\n",
      "\t\tMetric: ERR: 0.36417868733406067\n",
      "\t\tMetric: MAP: 0.23022380471229553\n",
      "\t\tMetric: Recall@1: 0.08936797082424164\n",
      "\t\tMetric: Recall@5: 0.1857801079750061\n",
      "\t\tMetric: Recall@10: 0.2577059864997864\n",
      "\t\tMetric: Precision@1: 0.48076921701431274\n",
      "\t\tMetric: Precision@5: 0.2769230902194977\n",
      "\t\tMetric: Precision@10: 0.20769232511520386\n",
      "\n",
      "Index: 2\n",
      "\tEvaluating Search Function: NaiveQL\n",
      "\t\tMetric: ERR: 0.010661772452294827\n",
      "\t\tMetric: MAP: 0.009257554076611996\n",
      "\t\tMetric: Recall@1: 0.0\n",
      "\t\tMetric: Recall@5: 0.0016025641234591603\n",
      "\t\tMetric: Recall@10: 0.0016025641234591603\n",
      "\t\tMetric: Precision@1: 0.0\n",
      "\t\tMetric: Precision@5: 0.003846153849735856\n",
      "\t\tMetric: Precision@10: 0.001923076924867928\n",
      "\n",
      "\tEvaluating Search Function: QL\n",
      "\t\tMetric: ERR: 0.014916603453457355\n",
      "\t\tMetric: MAP: 0.009760541841387749\n",
      "\t\tMetric: Recall@1: 0.0\n",
      "\t\tMetric: Recall@5: 0.004552739206701517\n",
      "\t\tMetric: Recall@10: 0.004552739206701517\n",
      "\t\tMetric: Precision@1: 0.0\n",
      "\t\tMetric: Precision@5: 0.011538461782038212\n",
      "\t\tMetric: Precision@10: 0.005769230891019106\n",
      "\n",
      "\tEvaluating Search Function: BM25\n",
      "\t\tMetric: ERR: 0.4758172631263733\n",
      "\t\tMetric: MAP: 0.32183507084846497\n",
      "\t\tMetric: Recall@1: 0.1259945034980774\n",
      "\t\tMetric: Recall@5: 0.24182432889938354\n",
      "\t\tMetric: Recall@10: 0.31476643681526184\n",
      "\t\tMetric: Precision@1: 0.6730769276618958\n",
      "\t\tMetric: Precision@5: 0.4153846204280853\n",
      "\t\tMetric: Precision@10: 0.313461571931839\n",
      "\n",
      "\tEvaluating Search Function: BOW\n",
      "\t\tMetric: ERR: 0.292279452085495\n",
      "\t\tMetric: MAP: 0.17512910068035126\n",
      "\t\tMetric: Recall@1: 0.06468385457992554\n",
      "\t\tMetric: Recall@5: 0.130839005112648\n",
      "\t\tMetric: Recall@10: 0.18029417097568512\n",
      "\t\tMetric: Precision@1: 0.38461539149284363\n",
      "\t\tMetric: Precision@5: 0.21153847873210907\n",
      "\t\tMetric: Precision@10: 0.18269230425357819\n",
      "\n",
      "\tEvaluating Search Function: TF-IDF\n",
      "\t\tMetric: ERR: 0.375860333442688\n",
      "\t\tMetric: MAP: 0.2811324894428253\n",
      "\t\tMetric: Recall@1: 0.11963681876659393\n",
      "\t\tMetric: Recall@5: 0.20895574986934662\n",
      "\t\tMetric: Recall@10: 0.26890847086906433\n",
      "\t\tMetric: Precision@1: 0.5\n",
      "\t\tMetric: Precision@5: 0.2807692289352417\n",
      "\t\tMetric: Precision@10: 0.24423076212406158\n",
      "\n"
     ]
    }
   ],
   "source": [
    "index_sets = {1, 2}\n",
    "\n",
    "list_of_metrics = [\n",
    "    (\"ERR\", err),\n",
    "    (\"MAP\", average_precision),\n",
    "    (\"Recall@1\",recall_at_1),\n",
    "    (\"Recall@5\", recall_at_5),\n",
    "    (\"Recall@10\", recall_at_10),\n",
    "    (\"Precision@1\", precision_at_1),\n",
    "    (\"Precision@5\", precision_at_5),\n",
    "    (\"Precision@10\", precision_at_10)]\n",
    "\n",
    "list_of_search_fns = [\n",
    "    (\"NaiveQL\", naive_ql_search),\n",
    "    (\"QL\", ql_search),\n",
    "    (\"BM25\", bm25_search),\n",
    "    (\"BOW\", bow_search),\n",
    "    (\"TF-IDF\", tfidf_search)\n",
    "]\n",
    "\n",
    "\n",
    "results = {}\n",
    "for index_set in index_sets:\n",
    "    results[index_set] = {}\n",
    "    print(f\"Index: {index_set}\")\n",
    "    for search_fn_name, search_fn in list_of_search_fns:\n",
    "        print(f\"\\tEvaluating Search Function: {search_fn_name}\")\n",
    "        results[index_set][search_fn_name] = {}\n",
    "        for metric_name, metric_fn in list_of_metrics:\n",
    "            r = evaluate_search_fn(search_fn, metric_fn, index_set).mean()\n",
    "            print(f\"\\t\\tMetric: {metric_name}: {r}\")\n",
    "            results[index_set][search_fn_name][metric_name] = r\n",
    "        print()"
   ]
  },
  {
   "cell_type": "markdown",
   "metadata": {},
   "source": [
    "## Section 5: Results and Analysis (20 points)\n",
    "\n",
    "The `results` dictionary contains the results for all search functions we implemented. Plot the results in bar charts, with clear labels:"
   ]
  },
  {
   "cell_type": "code",
   "execution_count": 51,
   "metadata": {
    "scrolled": true
   },
   "outputs": [
    {
     "data": {
      "image/png": "[encoded data removed]",
      "text/plain": [
       "<Figure size 1080x504 with 16 Axes>"
      ]
     },
     "metadata": {
      "needs_background": "light"
     },
     "output_type": "display_data"
    }
   ],
   "source": [
    "# The bar plots made in this cell show the performance of all models on both indices side to side. \n",
    "\n",
    "my_colors = ['black','yellow', 'red', 'green', 'blue']\n",
    "\n",
    "# create labels for search functions\n",
    "search_fn_labels = [search_fn for search_fn in results[1]]\n",
    "metric_labels = [\"ERR\", \"MAP\", \"Recall@1\", \"Recall@5\", \"Recall@10\", \"Precision@1\", \"Precision@5\", \"Precision@10\"]\n",
    "\n",
    "# get results per index\n",
    "index1_results = results[1]\n",
    "values_1 = [[index1_results[search_fn][metric] for metric in index1_results[search_fn]] for search_fn in index1_results]\n",
    "# this is a list of lists in which the sublists are results per metric, for the search_fns in search_fn_labels\n",
    "results_per_metric_1 = [list(x) for x in zip(*values_1)] \n",
    "\n",
    "index2_results = results[2]\n",
    "values_2 = [[index2_results[search_fn][metric] for metric in index2_results[search_fn]] for search_fn in index2_results]\n",
    "# this is a list of lists in which the sublists are results per metric, for the search_fns in search_fn_labels\n",
    "results_per_metric_2 = [list(x) for x in zip(*values_2)] \n",
    "\n",
    "\n",
    "\n",
    "# define subplot\n",
    "fig, axs = plt.subplots(8, 2, figsize=(15, 7), sharey=True)\n",
    "\n",
    "for i, metric_values in enumerate(zip(results_per_metric_1, results_per_metric_2)):\n",
    "    \n",
    "    score_1, score_2 = metric_values\n",
    "    axs[i][0].bar(search_fn_labels, score_1, color=my_colors)\n",
    "    axs[i][0].set_title(metric_labels[i]+\" index 1\")\n",
    "    axs[i][0].set_ylabel(\"Score\")\n",
    "    axs[i][0].grid()\n",
    "    axs[i][1].bar(search_fn_labels, score_2, color=my_colors)\n",
    "    axs[i][1].set_title(metric_labels[i]+\" index 2\")\n",
    "    axs[i][1].grid()\n",
    "\n",
    "fig.tight_layout(rect=[0, 0.05, 0.8, 3])\n",
    "plt.show()\n",
    "\n"
   ]
  },
  {
   "cell_type": "markdown",
   "metadata": {},
   "source": [
    "Write a summary of what you observe in the results.\n",
    "You summary should compare results across the 2 indices and the methods being used. State what you expected to see in the results, followed by either supporting evidence *or* justify why the results did not support your expectations.      \n",
    "*Hint*: You may build upon the answers from the previous sections. "
   ]
  },
  {
   "cell_type": "markdown",
   "metadata": {},
   "source": [
    "*TODO: Answer this!*"
   ]
  },
  {
   "cell_type": "markdown",
   "metadata": {},
   "source": [
    "# Conclusion\n",
    "Above the scores on the different metrics for all the models are shown. First we will formulate a conclusion on the different search functions and their performance. Afterwards, the differences between the 2 indices will be dicsussed, and finally we will choose the best search engine based on these metrics.\n",
    "\n",
    "## Search function performance\n",
    "First of all we can see in the results that both the Query Likelihood (QL) models stay behind in terms of performance, and they perform worse than we expected. Also there is barely any improvement from the naive to the QL model that uses smoothing, which was expected. We suspect there might be a bug in the QL search algorithms, but did not manage to figure out what is causing the bad performance. \n",
    "\n",
    "-- hier iets zeggen over recall dan moeten we het aantal relevante documenten meenemen, de scores zijn laag maar misschien zijn er enorm veel relevante documenten. \n",
    "\n",
    "## Differences between indices\n",
    "In the second index, the words are stemmed and stop words are removed. The results show that this boosts performance of all models, on all metrics. From this, we can draw the conclusion that stemming and stopword removal indeed facilitate the search process. \n",
    "\n",
    "Overall, the $BM25$ model is superior on all performance metrics (on both indices), and benefits the most from text preprocessing (stemming and stop word removal). For the hyperparameters $k_1$ and $b$ we used typical values found in literature, so possibly tuning could improve the performance even further. Using the default model, the precision at 1 is quite high at $0.6$, and an average precision of $0.3$. "
   ]
  },
  {
   "cell_type": "code",
   "execution_count": null,
   "metadata": {},
   "outputs": [],
   "source": []
  },
  {
   "cell_type": "code",
   "execution_count": null,
   "metadata": {},
   "outputs": [],
   "source": []
  }
 ],
 "metadata": {
  "kernelspec": {
   "display_name": "Python 3",
   "language": "python",
   "name": "python3"
  },
  "language_info": {
   "codemirror_mode": {
    "name": "ipython",
    "version": 3
   },
   "file_extension": ".py",
   "mimetype": "text/x-python",
   "name": "python",
   "nbconvert_exporter": "python",
   "pygments_lexer": "ipython3",
   "version": "3.6.10"
  }
 },
 "nbformat": 4,
 "nbformat_minor": 4
}
